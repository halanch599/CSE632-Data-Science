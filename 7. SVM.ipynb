{
 "cells": [
  {
   "cell_type": "code",
   "execution_count": 15,
   "metadata": {},
   "outputs": [],
   "source": [
    "from sklearn import datasets \n",
    "from matplotlib import pyplot as plt\n",
    "from sklearn.model_selection import train_test_split\n",
    "from sklearn.svm import SVC\n",
    "import seaborn as sns"
   ]
  },
  {
   "cell_type": "code",
   "execution_count": 9,
   "metadata": {},
   "outputs": [],
   "source": [
    "iris = datasets.load_iris()\n",
    "x = iris.data\n",
    "y = iris.target\n",
    "\n",
    "x_train, x_test, y_train, y_test = train_test_split(x,y,test_size=0.20, random_state=30)"
   ]
  },
  {
   "cell_type": "code",
   "execution_count": 21,
   "metadata": {},
   "outputs": [
    {
     "data": {
      "text/plain": [
       "array([[5.1, 3.3, 1.7, 0.5],\n",
       "       [4.5, 2.3, 1.3, 0.3],\n",
       "       [5. , 3. , 1.6, 0.2],\n",
       "       [5.1, 3.8, 1.9, 0.4],\n",
       "       [5.7, 3.8, 1.7, 0.3],\n",
       "       [5.1, 2.5, 3. , 1.1],\n",
       "       [6.2, 2.2, 4.5, 1.5],\n",
       "       [6.1, 2.8, 4.7, 1.2],\n",
       "       [6. , 2.7, 5.1, 1.6],\n",
       "       [5.6, 3. , 4.5, 1.5],\n",
       "       [6. , 3.4, 4.5, 1.6],\n",
       "       [6.1, 2.9, 4.7, 1.4],\n",
       "       [5.4, 3. , 4.5, 1.5],\n",
       "       [6.7, 3. , 5. , 1.7],\n",
       "       [6.7, 3.1, 4.7, 1.5],\n",
       "       [6.3, 3.3, 4.7, 1.6],\n",
       "       [6.4, 3.2, 4.5, 1.5],\n",
       "       [6.8, 2.8, 4.8, 1.4],\n",
       "       [5. , 2. , 3.5, 1. ],\n",
       "       [5.7, 2.6, 3.5, 1. ],\n",
       "       [6.9, 3.1, 4.9, 1.5],\n",
       "       [5.5, 2.6, 4.4, 1.2],\n",
       "       [6.5, 2.8, 4.6, 1.5],\n",
       "       [6.6, 3. , 4.4, 1.4],\n",
       "       [4.9, 2.4, 3.3, 1. ],\n",
       "       [6. , 2.9, 4.5, 1.5],\n",
       "       [6.1, 3. , 4.6, 1.4],\n",
       "       [6.6, 2.9, 4.6, 1.3],\n",
       "       [5.7, 2.8, 4.5, 1.3],\n",
       "       [7. , 3.2, 4.7, 1.4],\n",
       "       [5.6, 2.9, 3.6, 1.3],\n",
       "       [6.9, 3.1, 5.4, 2.1],\n",
       "       [6.1, 3. , 4.9, 1.8],\n",
       "       [6.9, 3.1, 5.1, 2.3],\n",
       "       [6.4, 3.1, 5.5, 1.8],\n",
       "       [7.2, 3. , 5.8, 1.6],\n",
       "       [6.4, 2.7, 5.3, 1.9],\n",
       "       [6. , 3. , 4.8, 1.8],\n",
       "       [6.3, 2.5, 5. , 1.9],\n",
       "       [6.4, 3.2, 5.3, 2.3],\n",
       "       [4.9, 2.5, 4.5, 1.7],\n",
       "       [5.8, 2.8, 5.1, 2.4],\n",
       "       [5.6, 2.8, 4.9, 2. ],\n",
       "       [6.5, 3.2, 5.1, 2. ],\n",
       "       [6.2, 2.8, 4.8, 1.8],\n",
       "       [5.8, 2.7, 5.1, 1.9],\n",
       "       [5.9, 3. , 5.1, 1.8],\n",
       "       [5.7, 2.5, 5. , 2. ],\n",
       "       [6.1, 2.6, 5.6, 1.4],\n",
       "       [6.5, 3. , 5.5, 1.8],\n",
       "       [6.5, 3. , 5.2, 2. ],\n",
       "       [6. , 2.2, 5. , 1.5],\n",
       "       [7.9, 3.8, 6.4, 2. ]])"
      ]
     },
     "execution_count": 21,
     "metadata": {},
     "output_type": "execute_result"
    }
   ],
   "source": [
    "# model =  SVC(kernel='linear')\n",
    "# model =  SVC(kernel='poly',degree=5)\n",
    "model =  SVC(kernel='rbf')\n",
    "model.fit(x_train, y_train)\n",
    "model.support_vectors_"
   ]
  },
  {
   "cell_type": "code",
   "execution_count": 22,
   "metadata": {},
   "outputs": [
    {
     "data": {
      "text/plain": [
       "array([0, 0, 0, 2, 1, 1, 2, 2, 1, 2, 0, 2, 1, 1, 0, 1, 0, 0, 0, 1, 2, 0,\n",
       "       0, 0, 2, 2, 1, 2, 0, 1])"
      ]
     },
     "execution_count": 22,
     "metadata": {},
     "output_type": "execute_result"
    }
   ],
   "source": [
    "# prediction\n",
    "y_pred = model.predict(x_test)\n",
    "y_pred"
   ]
  },
  {
   "cell_type": "code",
   "execution_count": 23,
   "metadata": {},
   "outputs": [
    {
     "name": "stdout",
     "output_type": "stream",
     "text": [
      "Accuracy is 100.0%\n",
      "Precision is 100.0%\n",
      "Recall is 100.0%\n",
      "FScore is 100.0%\n",
      "Support is [12  9  9]\n"
     ]
    }
   ],
   "source": [
    "from sklearn.metrics import accuracy_score\n",
    "from sklearn.metrics import precision_recall_fscore_support\n",
    "\n",
    "acc = accuracy_score(y_test,y_pred)\n",
    "precision, recall, fscore, supprt = precision_recall_fscore_support(y_test,y_pred)\n",
    "print('Accuracy is {0}%'.format(acc*100))\n",
    "print('Precision is {0}%'.format(precision.mean()*100))\n",
    "print('Recall is {0}%'.format(recall.mean()*100))\n",
    "print('FScore is {0}%'.format(fscore.mean()*100))\n",
    "print('Support is {0}'.format(supprt))"
   ]
  },
  {
   "cell_type": "code",
   "execution_count": 24,
   "metadata": {},
   "outputs": [
    {
     "name": "stdout",
     "output_type": "stream",
     "text": [
      "[[12  0  0]\n",
      " [ 0  9  0]\n",
      " [ 0  0  9]]\n"
     ]
    },
    {
     "data": {
      "image/png": "[encoded data removed]",
      "text/plain": [
       "<Figure size 432x432 with 1 Axes>"
      ]
     },
     "metadata": {
      "needs_background": "light"
     },
     "output_type": "display_data"
    }
   ],
   "source": [
    "from sklearn.metrics import confusion_matrix\n",
    "cm = confusion_matrix(y_test,y_pred)\n",
    "print(cm)\n",
    "\n",
    "fig = plt.figure(figsize=(6,6))\n",
    "sns.heatmap(cm,cmap='Blues',annot=True, annot_kws={'size':20},cbar=False)\n",
    "plt.xlabel('Actual Labels')\n",
    "plt.ylabel('Predicted Labels')\n",
    "plt.show()"
   ]
  },
  {
   "cell_type": "code",
   "execution_count": 25,
   "metadata": {},
   "outputs": [
    {
     "data": {
      "text/plain": [
       "array([[6.9, 3.1, 5.4, 2.1],\n",
       "       [5.5, 2.4, 3.7, 1. ],\n",
       "       [6.8, 3. , 5.5, 2.1],\n",
       "       [6.1, 3. , 4.9, 1.8],\n",
       "       [7.7, 2.6, 6.9, 2.3],\n",
       "       [6.9, 3.1, 5.1, 2.3],\n",
       "       [5.1, 2.5, 3. , 1.1],\n",
       "       [6.4, 3.1, 5.5, 1.8],\n",
       "       [6.1, 2.8, 4. , 1.3],\n",
       "       [7.2, 3. , 5.8, 1.6],\n",
       "       [6.8, 3.2, 5.9, 2.3],\n",
       "       [6.4, 2.8, 5.6, 2.1],\n",
       "       [5.8, 4. , 1.2, 0.2],\n",
       "       [6.2, 2.2, 4.5, 1.5],\n",
       "       [6.4, 2.7, 5.3, 1.9],\n",
       "       [5.2, 2.7, 3.9, 1.4],\n",
       "       [5.6, 2.7, 4.2, 1.3],\n",
       "       [6.1, 2.8, 4.7, 1.2],\n",
       "       [5.5, 2.5, 4. , 1.3],\n",
       "       [5.6, 3. , 4.1, 1.3],\n",
       "       [4.6, 3.4, 1.4, 0.3],\n",
       "       [5.8, 2.7, 4.1, 1. ],\n",
       "       [6.7, 3.3, 5.7, 2.5],\n",
       "       [5.8, 2.6, 4. , 1.2],\n",
       "       [5.1, 3.7, 1.5, 0.4],\n",
       "       [6. , 2.7, 5.1, 1.6],\n",
       "       [4.8, 3. , 1.4, 0.1],\n",
       "       [5.6, 3. , 4.5, 1.5],\n",
       "       [6. , 3.4, 4.5, 1.6],\n",
       "       [6.1, 2.9, 4.7, 1.4],\n",
       "       [4.7, 3.2, 1.6, 0.2],\n",
       "       [5.4, 3. , 4.5, 1.5],\n",
       "       [5.1, 3.3, 1.7, 0.5],\n",
       "       [5.7, 2.9, 4.2, 1.3],\n",
       "       [5.4, 3.4, 1.5, 0.4],\n",
       "       [6.3, 3.3, 6. , 2.5],\n",
       "       [6. , 3. , 4.8, 1.8],\n",
       "       [7.2, 3.2, 6. , 1.8],\n",
       "       [5.3, 3.7, 1.5, 0.2],\n",
       "       [6.2, 3.4, 5.4, 2.3],\n",
       "       [6.7, 3. , 5. , 1.7],\n",
       "       [7.7, 2.8, 6.7, 2. ],\n",
       "       [5.1, 3.5, 1.4, 0.3],\n",
       "       [5.4, 3.7, 1.5, 0.2],\n",
       "       [6.7, 3.1, 4.7, 1.5],\n",
       "       [5. , 3.6, 1.4, 0.2],\n",
       "       [6.3, 2.5, 5. , 1.9],\n",
       "       [6.4, 3.2, 5.3, 2.3],\n",
       "       [6.7, 2.5, 5.8, 1.8],\n",
       "       [4.9, 2.5, 4.5, 1.7],\n",
       "       [5.4, 3.9, 1.3, 0.4],\n",
       "       [6.3, 3.3, 4.7, 1.6],\n",
       "       [4.5, 2.3, 1.3, 0.3],\n",
       "       [6.4, 3.2, 4.5, 1.5],\n",
       "       [6.8, 2.8, 4.8, 1.4],\n",
       "       [5. , 2. , 3.5, 1. ],\n",
       "       [6.7, 3.3, 5.7, 2.1],\n",
       "       [5. , 3.5, 1.6, 0.6],\n",
       "       [5.7, 2.6, 3.5, 1. ],\n",
       "       [4.9, 3.1, 1.5, 0.2],\n",
       "       [5.9, 3. , 4.2, 1.5],\n",
       "       [5.8, 2.8, 5.1, 2.4],\n",
       "       [6.9, 3.1, 4.9, 1.5],\n",
       "       [5. , 3.3, 1.4, 0.2],\n",
       "       [4.8, 3.1, 1.6, 0.2],\n",
       "       [5.1, 3.8, 1.5, 0.3],\n",
       "       [5.6, 2.8, 4.9, 2. ],\n",
       "       [6.9, 3.2, 5.7, 2.3],\n",
       "       [5. , 3.4, 1.6, 0.4],\n",
       "       [5.5, 2.6, 4.4, 1.2],\n",
       "       [5.6, 2.5, 3.9, 1.1],\n",
       "       [6.5, 2.8, 4.6, 1.5],\n",
       "       [5. , 3. , 1.6, 0.2],\n",
       "       [5. , 3.5, 1.3, 0.3],\n",
       "       [4.6, 3.6, 1. , 0.2],\n",
       "       [5.5, 3.5, 1.3, 0.2],\n",
       "       [6.5, 3.2, 5.1, 2. ],\n",
       "       [4.6, 3.2, 1.4, 0.2],\n",
       "       [6.2, 2.8, 4.8, 1.8],\n",
       "       [4.9, 3.1, 1.5, 0.1],\n",
       "       [5.1, 3.4, 1.5, 0.2],\n",
       "       [5.8, 2.7, 5.1, 1.9],\n",
       "       [7.7, 3.8, 6.7, 2.2],\n",
       "       [5.9, 3. , 5.1, 1.8],\n",
       "       [5.1, 3.8, 1.9, 0.4],\n",
       "       [7.2, 3.6, 6.1, 2.5],\n",
       "       [5.7, 3. , 4.2, 1.2],\n",
       "       [6.6, 3. , 4.4, 1.4],\n",
       "       [6.5, 3. , 5.8, 2.2],\n",
       "       [4.9, 2.4, 3.3, 1. ],\n",
       "       [6. , 2.9, 4.5, 1.5],\n",
       "       [6.1, 3. , 4.6, 1.4],\n",
       "       [6.6, 2.9, 4.6, 1.3],\n",
       "       [5.7, 2.5, 5. , 2. ],\n",
       "       [5.2, 3.4, 1.4, 0.2],\n",
       "       [5.7, 2.8, 4.5, 1.3],\n",
       "       [5.5, 4.2, 1.4, 0.2],\n",
       "       [7. , 3.2, 4.7, 1.4],\n",
       "       [4.3, 3. , 1.1, 0.1],\n",
       "       [5.7, 4.4, 1.5, 0.4],\n",
       "       [4.8, 3.4, 1.6, 0.2],\n",
       "       [7.7, 3. , 6.1, 2.3],\n",
       "       [5.6, 2.9, 3.6, 1.3],\n",
       "       [5.1, 3.8, 1.6, 0.2],\n",
       "       [5.2, 3.5, 1.5, 0.2],\n",
       "       [6. , 2.2, 4. , 1. ],\n",
       "       [6.1, 2.6, 5.6, 1.4],\n",
       "       [7.1, 3. , 5.9, 2.1],\n",
       "       [6.5, 3. , 5.5, 1.8],\n",
       "       [6.5, 3. , 5.2, 2. ],\n",
       "       [5.7, 3.8, 1.7, 0.3],\n",
       "       [6.7, 3.1, 4.4, 1.4],\n",
       "       [6. , 2.2, 5. , 1.5],\n",
       "       [5. , 3.4, 1.5, 0.2],\n",
       "       [7.9, 3.8, 6.4, 2. ],\n",
       "       [5.5, 2.3, 4. , 1.3],\n",
       "       [7.4, 2.8, 6.1, 1.9],\n",
       "       [6.7, 3.1, 5.6, 2.4],\n",
       "       [4.8, 3. , 1.4, 0.3],\n",
       "       [4.9, 3.6, 1.4, 0.1]])"
      ]
     },
     "execution_count": 25,
     "metadata": {},
     "output_type": "execute_result"
    }
   ],
   "source": [
    "x_train"
   ]
  },
  {
   "cell_type": "code",
   "execution_count": null,
   "metadata": {},
   "outputs": [],
   "source": []
  }
 ],
 "metadata": {
  "kernelspec": {
   "display_name": "Python 3",
   "language": "python",
   "name": "python3"
  },
  "language_info": {
   "codemirror_mode": {
    "name": "ipython",
    "version": 3
   },
   "file_extension": ".py",
   "mimetype": "text/x-python",
   "name": "python",
   "nbconvert_exporter": "python",
   "pygments_lexer": "ipython3",
   "version": "3.8.5"
  }
 },
 "nbformat": 4,
 "nbformat_minor": 4
}
