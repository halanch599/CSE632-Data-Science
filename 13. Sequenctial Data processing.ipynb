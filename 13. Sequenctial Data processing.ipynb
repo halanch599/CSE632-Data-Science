{
 "cells": [
  {
   "cell_type": "code",
   "execution_count": 1,
   "metadata": {},
   "outputs": [],
   "source": [
    "import pandas_datareader as reader\n",
    "import matplotlib.pyplot as plt\n",
    "import pandas as pd\n",
    "import numpy as np\n",
    "import math\n",
    "from tensorflow.keras.models import Sequential\n",
    "from tensorflow.keras.layers import LSTM, Dense\n",
    "from sklearn.preprocessing import MinMaxScaler"
   ]
  },
  {
   "cell_type": "code",
   "execution_count": 10,
   "metadata": {},
   "outputs": [
    {
     "data": {
      "text/html": [
       "<div>\n",
       "<style scoped>\n",
       "    .dataframe tbody tr th:only-of-type {\n",
       "        vertical-align: middle;\n",
       "    }\n",
       "\n",
       "    .dataframe tbody tr th {\n",
       "        vertical-align: top;\n",
       "    }\n",
       "\n",
       "    .dataframe thead th {\n",
       "        text-align: right;\n",
       "    }\n",
       "</style>\n",
       "<table border=\"1\" class=\"dataframe\">\n",
       "  <thead>\n",
       "    <tr style=\"text-align: right;\">\n",
       "      <th></th>\n",
       "      <th>High</th>\n",
       "      <th>Low</th>\n",
       "      <th>Open</th>\n",
       "      <th>Close</th>\n",
       "      <th>Volume</th>\n",
       "      <th>Adj Close</th>\n",
       "    </tr>\n",
       "    <tr>\n",
       "      <th>Date</th>\n",
       "      <th></th>\n",
       "      <th></th>\n",
       "      <th></th>\n",
       "      <th></th>\n",
       "      <th></th>\n",
       "      <th></th>\n",
       "    </tr>\n",
       "  </thead>\n",
       "  <tbody>\n",
       "    <tr>\n",
       "      <th>2020-01-02</th>\n",
       "      <td>75.150002</td>\n",
       "      <td>73.797501</td>\n",
       "      <td>74.059998</td>\n",
       "      <td>75.087502</td>\n",
       "      <td>135480400.0</td>\n",
       "      <td>74.207466</td>\n",
       "    </tr>\n",
       "    <tr>\n",
       "      <th>2020-01-03</th>\n",
       "      <td>75.144997</td>\n",
       "      <td>74.125000</td>\n",
       "      <td>74.287498</td>\n",
       "      <td>74.357498</td>\n",
       "      <td>146322800.0</td>\n",
       "      <td>73.486023</td>\n",
       "    </tr>\n",
       "    <tr>\n",
       "      <th>2020-01-06</th>\n",
       "      <td>74.989998</td>\n",
       "      <td>73.187500</td>\n",
       "      <td>73.447502</td>\n",
       "      <td>74.949997</td>\n",
       "      <td>118387200.0</td>\n",
       "      <td>74.071579</td>\n",
       "    </tr>\n",
       "    <tr>\n",
       "      <th>2020-01-07</th>\n",
       "      <td>75.224998</td>\n",
       "      <td>74.370003</td>\n",
       "      <td>74.959999</td>\n",
       "      <td>74.597504</td>\n",
       "      <td>108872000.0</td>\n",
       "      <td>73.723213</td>\n",
       "    </tr>\n",
       "    <tr>\n",
       "      <th>2020-01-08</th>\n",
       "      <td>76.110001</td>\n",
       "      <td>74.290001</td>\n",
       "      <td>74.290001</td>\n",
       "      <td>75.797501</td>\n",
       "      <td>132079200.0</td>\n",
       "      <td>74.909149</td>\n",
       "    </tr>\n",
       "    <tr>\n",
       "      <th>...</th>\n",
       "      <td>...</td>\n",
       "      <td>...</td>\n",
       "      <td>...</td>\n",
       "      <td>...</td>\n",
       "      <td>...</td>\n",
       "      <td>...</td>\n",
       "    </tr>\n",
       "    <tr>\n",
       "      <th>2021-05-11</th>\n",
       "      <td>126.269997</td>\n",
       "      <td>122.769997</td>\n",
       "      <td>123.500000</td>\n",
       "      <td>125.910004</td>\n",
       "      <td>126142800.0</td>\n",
       "      <td>125.910004</td>\n",
       "    </tr>\n",
       "    <tr>\n",
       "      <th>2021-05-12</th>\n",
       "      <td>124.639999</td>\n",
       "      <td>122.250000</td>\n",
       "      <td>123.400002</td>\n",
       "      <td>122.769997</td>\n",
       "      <td>112172300.0</td>\n",
       "      <td>122.769997</td>\n",
       "    </tr>\n",
       "    <tr>\n",
       "      <th>2021-05-13</th>\n",
       "      <td>126.150002</td>\n",
       "      <td>124.260002</td>\n",
       "      <td>124.580002</td>\n",
       "      <td>124.970001</td>\n",
       "      <td>105861300.0</td>\n",
       "      <td>124.970001</td>\n",
       "    </tr>\n",
       "    <tr>\n",
       "      <th>2021-05-14</th>\n",
       "      <td>127.889999</td>\n",
       "      <td>125.849998</td>\n",
       "      <td>126.250000</td>\n",
       "      <td>127.449997</td>\n",
       "      <td>81806500.0</td>\n",
       "      <td>127.449997</td>\n",
       "    </tr>\n",
       "    <tr>\n",
       "      <th>2021-05-17</th>\n",
       "      <td>126.930000</td>\n",
       "      <td>125.169998</td>\n",
       "      <td>126.820000</td>\n",
       "      <td>126.269997</td>\n",
       "      <td>74163100.0</td>\n",
       "      <td>126.269997</td>\n",
       "    </tr>\n",
       "  </tbody>\n",
       "</table>\n",
       "<p>346 rows × 6 columns</p>\n",
       "</div>"
      ],
      "text/plain": [
       "                  High         Low  ...       Volume   Adj Close\n",
       "Date                                ...                         \n",
       "2020-01-02   75.150002   73.797501  ...  135480400.0   74.207466\n",
       "2020-01-03   75.144997   74.125000  ...  146322800.0   73.486023\n",
       "2020-01-06   74.989998   73.187500  ...  118387200.0   74.071579\n",
       "2020-01-07   75.224998   74.370003  ...  108872000.0   73.723213\n",
       "2020-01-08   76.110001   74.290001  ...  132079200.0   74.909149\n",
       "...                ...         ...  ...          ...         ...\n",
       "2021-05-11  126.269997  122.769997  ...  126142800.0  125.910004\n",
       "2021-05-12  124.639999  122.250000  ...  112172300.0  122.769997\n",
       "2021-05-13  126.150002  124.260002  ...  105861300.0  124.970001\n",
       "2021-05-14  127.889999  125.849998  ...   81806500.0  127.449997\n",
       "2021-05-17  126.930000  125.169998  ...   74163100.0  126.269997\n",
       "\n",
       "[346 rows x 6 columns]"
      ]
     },
     "execution_count": 10,
     "metadata": {},
     "output_type": "execute_result"
    }
   ],
   "source": [
    "startdate='2020-01-01'\n",
    "enddate = '2021-05-18'\n",
    "df = reader.DataReader('AAPL',data_source='yahoo',start=startdate, end=enddate)\n",
    "df"
   ]
  },
  {
   "cell_type": "markdown",
   "metadata": {},
   "source": [
    "### Visualize the data"
   ]
  },
  {
   "cell_type": "code",
   "execution_count": 11,
   "metadata": {},
   "outputs": [
    {
     "data": {
      "image/png": "[encoded data removed]",
      "text/plain": [
       "<Figure size 864x576 with 1 Axes>"
      ]
     },
     "metadata": {
      "needs_background": "light"
     },
     "output_type": "display_data"
    }
   ],
   "source": [
    "plt.figure(figsize=(12,8))\n",
    "plt.plot(df['Close'])\n",
    "plt.title('Apple Close Price')\n",
    "plt.xlabel('Date', fontsize=18)\n",
    "plt.ylabel('Close Price ($)', fontsize=18)\n",
    "plt.show()"
   ]
  },
  {
   "cell_type": "code",
   "execution_count": 12,
   "metadata": {},
   "outputs": [
    {
     "data": {
      "text/plain": [
       "(277, 69)"
      ]
     },
     "execution_count": 12,
     "metadata": {},
     "output_type": "execute_result"
    }
   ],
   "source": [
    "data_close = df.filter(['Close'])\n",
    "# returns the numpy array\n",
    "dataset= data_close.values\n",
    "\n",
    "train_size = 0.8\n",
    "train_len = math.ceil(len(dataset)*train_size)\n",
    "test_len = len(dataset) - train_len\n",
    "(train_len, test_len)"
   ]
  },
  {
   "cell_type": "markdown",
   "metadata": {},
   "source": [
    "### Scalar data\n"
   ]
  },
  {
   "cell_type": "code",
   "execution_count": 15,
   "metadata": {},
   "outputs": [
    {
     "data": {
      "text/plain": [
       "(array([0.21816409]), array([75.08750153]))"
      ]
     },
     "execution_count": 15,
     "metadata": {},
     "output_type": "execute_result"
    }
   ],
   "source": [
    "scaler = MinMaxScaler(feature_range=(0,1))\n",
    "scaled_data = scaler.fit_transform(dataset)\n",
    "(scaled_data[0], dataset[0])"
   ]
  },
  {
   "cell_type": "code",
   "execution_count": 20,
   "metadata": {},
   "outputs": [],
   "source": [
    "# create train data\n",
    "train_data = scaled_data[0:train_len,:]\n",
    "steps = 7\n",
    "x_train = []\n",
    "y_train = []\n",
    "\n",
    "for i in range(steps, len(train_data)):\n",
    "    x_train.append(train_data[i-steps:i,0])\n",
    "    y_train.append(train_data[i,0])\n"
   ]
  },
  {
   "cell_type": "code",
   "execution_count": 52,
   "metadata": {},
   "outputs": [],
   "source": [
    "x_train[0], y_train[0]\n",
    "x_train,y_train = np.array(x_train), np.array(y_train)\n"
   ]
  },
  {
   "cell_type": "code",
   "execution_count": 40,
   "metadata": {},
   "outputs": [
    {
     "data": {
      "text/plain": [
       "((270, 7, 1), (270,))"
      ]
     },
     "execution_count": 40,
     "metadata": {},
     "output_type": "execute_result"
    }
   ],
   "source": [
    "x.shape, y.shape"
   ]
  },
  {
   "cell_type": "code",
   "execution_count": 53,
   "metadata": {},
   "outputs": [
    {
     "data": {
      "text/plain": [
       "(270, 7, 1)"
      ]
     },
     "execution_count": 53,
     "metadata": {},
     "output_type": "execute_result"
    }
   ],
   "source": [
    "# LSTM expects input tensor tobe (No Sample, Steps, Features)\n",
    "x_train = np.reshape(x_train, (x_train.shape[0],steps,1))\n",
    "x_train.shape"
   ]
  },
  {
   "cell_type": "code",
   "execution_count": 54,
   "metadata": {},
   "outputs": [
    {
     "data": {
      "text/plain": [
       "(69, 69)"
      ]
     },
     "execution_count": 54,
     "metadata": {},
     "output_type": "execute_result"
    }
   ],
   "source": [
    "test_data = scaled_data[train_len-steps:, :]\n",
    "x_test = []\n",
    "y_test = dataset[train_len:,:]\n",
    "for i in range(steps, len(test_data)):\n",
    "    x_test.append(test_data[i-steps:i,0])\n",
    "len(x_test), len(y_test)"
   ]
  },
  {
   "cell_type": "code",
   "execution_count": 31,
   "metadata": {},
   "outputs": [
    {
     "data": {
      "text/plain": [
       "(69, 7, 1)"
      ]
     },
     "execution_count": 31,
     "metadata": {},
     "output_type": "execute_result"
    }
   ],
   "source": [
    "x_test = np.array(x_test)\n",
    "\n",
    "# 3D tesor\n",
    "x_test = np.reshape(x_test, (x_test.shape[0], steps, 1))\n",
    "x_test.shape"
   ]
  },
  {
   "cell_type": "code",
   "execution_count": 32,
   "metadata": {},
   "outputs": [],
   "source": [
    "# Model Architecture\n",
    "\n",
    "model =  Sequential()\n",
    "model.add(LSTM(32,return_sequences=True, input_shape=(steps,1)))\n",
    "model.add(LSTM(64,return_sequences = True))\n",
    "model.add(LSTM(128,return_sequences = False))\n",
    "#FC\n",
    "model.add(Dense(64))\n",
    "model.add(Dense(32))\n",
    "model.add(Dense(1))"
   ]
  },
  {
   "cell_type": "code",
   "execution_count": 33,
   "metadata": {},
   "outputs": [
    {
     "name": "stdout",
     "output_type": "stream",
     "text": [
      "Model: \"sequential\"\n",
      "_________________________________________________________________\n",
      "Layer (type)                 Output Shape              Param #   \n",
      "=================================================================\n",
      "lstm (LSTM)                  (None, 7, 32)             4352      \n",
      "_________________________________________________________________\n",
      "lstm_1 (LSTM)                (None, 7, 64)             24832     \n",
      "_________________________________________________________________\n",
      "lstm_2 (LSTM)                (None, 128)               98816     \n",
      "_________________________________________________________________\n",
      "dense (Dense)                (None, 64)                8256      \n",
      "_________________________________________________________________\n",
      "dense_1 (Dense)              (None, 32)                2080      \n",
      "_________________________________________________________________\n",
      "dense_2 (Dense)              (None, 1)                 33        \n",
      "=================================================================\n",
      "Total params: 138,369\n",
      "Trainable params: 138,369\n",
      "Non-trainable params: 0\n",
      "_________________________________________________________________\n"
     ]
    }
   ],
   "source": [
    "model.summary()"
   ]
  },
  {
   "cell_type": "code",
   "execution_count": 34,
   "metadata": {},
   "outputs": [],
   "source": [
    "model.compile(optimizer='adam',loss='mean_squared_error')"
   ]
  },
  {
   "cell_type": "code",
   "execution_count": 42,
   "metadata": {},
   "outputs": [
    {
     "name": "stdout",
     "output_type": "stream",
     "text": [
      "Epoch 1/50\n",
      "34/34 [==============================] - 0s 12ms/step - loss: 0.0034\n",
      "Epoch 2/50\n",
      "34/34 [==============================] - 1s 18ms/step - loss: 0.0039\n",
      "Epoch 3/50\n",
      "34/34 [==============================] - 0s 12ms/step - loss: 0.0030\n",
      "Epoch 4/50\n",
      "34/34 [==============================] - 1s 18ms/step - loss: 0.0032\n",
      "Epoch 5/50\n",
      "34/34 [==============================] - 0s 14ms/step - loss: 0.0029\n",
      "Epoch 6/50\n",
      "34/34 [==============================] - 0s 10ms/step - loss: 0.0031\n",
      "Epoch 7/50\n",
      "34/34 [==============================] - 0s 10ms/step - loss: 0.0038\n",
      "Epoch 8/50\n",
      "34/34 [==============================] - 0s 11ms/step - loss: 0.0040\n",
      "Epoch 9/50\n",
      "34/34 [==============================] - 0s 10ms/step - loss: 0.0028\n",
      "Epoch 10/50\n",
      "34/34 [==============================] - 0s 12ms/step - loss: 0.0032\n",
      "Epoch 11/50\n",
      "34/34 [==============================] - 0s 11ms/step - loss: 0.0033\n",
      "Epoch 12/50\n",
      "34/34 [==============================] - 0s 11ms/step - loss: 0.0035\n",
      "Epoch 13/50\n",
      "34/34 [==============================] - 0s 14ms/step - loss: 0.0028\n",
      "Epoch 14/50\n",
      "34/34 [==============================] - 0s 11ms/step - loss: 0.0029\n",
      "Epoch 15/50\n",
      "34/34 [==============================] - 0s 11ms/step - loss: 0.0033\n",
      "Epoch 16/50\n",
      "34/34 [==============================] - 0s 11ms/step - loss: 0.0027\n",
      "Epoch 17/50\n",
      "34/34 [==============================] - 0s 13ms/step - loss: 0.0026\n",
      "Epoch 18/50\n",
      "34/34 [==============================] - 1s 18ms/step - loss: 0.0027\n",
      "Epoch 19/50\n",
      "34/34 [==============================] - 0s 12ms/step - loss: 0.0023\n",
      "Epoch 20/50\n",
      "34/34 [==============================] - 0s 12ms/step - loss: 0.0028\n",
      "Epoch 21/50\n",
      "34/34 [==============================] - 0s 12ms/step - loss: 0.0027\n",
      "Epoch 22/50\n",
      "34/34 [==============================] - 0s 13ms/step - loss: 0.0028\n",
      "Epoch 23/50\n",
      "34/34 [==============================] - 0s 13ms/step - loss: 0.0022\n",
      "Epoch 24/50\n",
      "34/34 [==============================] - 1s 16ms/step - loss: 0.0023\n",
      "Epoch 25/50\n",
      "34/34 [==============================] - 1s 19ms/step - loss: 0.0020\n",
      "Epoch 26/50\n",
      "34/34 [==============================] - 0s 14ms/step - loss: 0.0023\n",
      "Epoch 27/50\n",
      "34/34 [==============================] - 0s 13ms/step - loss: 0.0022\n",
      "Epoch 28/50\n",
      "34/34 [==============================] - 1s 16ms/step - loss: 0.0022\n",
      "Epoch 29/50\n",
      "34/34 [==============================] - 0s 13ms/step - loss: 0.0017\n",
      "Epoch 30/50\n",
      "34/34 [==============================] - 0s 12ms/step - loss: 0.0017\n",
      "Epoch 31/50\n",
      "34/34 [==============================] - 0s 13ms/step - loss: 0.0020\n",
      "Epoch 32/50\n",
      "34/34 [==============================] - 0s 12ms/step - loss: 0.0017\n",
      "Epoch 33/50\n",
      "34/34 [==============================] - 0s 13ms/step - loss: 0.0016\n",
      "Epoch 34/50\n",
      "34/34 [==============================] - 0s 13ms/step - loss: 0.0022\n",
      "Epoch 35/50\n",
      "34/34 [==============================] - 1s 23ms/step - loss: 0.0015\n",
      "Epoch 36/50\n",
      "34/34 [==============================] - 1s 15ms/step - loss: 0.0012\n",
      "Epoch 37/50\n",
      "34/34 [==============================] - 0s 15ms/step - loss: 0.0013\n",
      "Epoch 38/50\n",
      "34/34 [==============================] - 0s 14ms/step - loss: 0.0014\n",
      "Epoch 39/50\n",
      "34/34 [==============================] - 1s 18ms/step - loss: 0.0012\n",
      "Epoch 40/50\n",
      "34/34 [==============================] - 1s 31ms/step - loss: 0.0028: 0s - loss: 0.00\n",
      "Epoch 41/50\n",
      "34/34 [==============================] - 1s 24ms/step - loss: 0.0015\n",
      "Epoch 42/50\n",
      "34/34 [==============================] - 1s 16ms/step - loss: 0.0012\n",
      "Epoch 43/50\n",
      "34/34 [==============================] - 1s 21ms/step - loss: 0.0013\n",
      "Epoch 44/50\n",
      "34/34 [==============================] - 0s 12ms/step - loss: 0.0013\n",
      "Epoch 45/50\n",
      "34/34 [==============================] - 0s 13ms/step - loss: 0.0014\n",
      "Epoch 46/50\n",
      "34/34 [==============================] - 0s 13ms/step - loss: 0.0012\n",
      "Epoch 47/50\n",
      "34/34 [==============================] - 0s 12ms/step - loss: 0.0013TA: 0s - loss: 0.\n",
      "Epoch 48/50\n",
      "34/34 [==============================] - 0s 13ms/step - loss: 0.0013\n",
      "Epoch 49/50\n",
      "34/34 [==============================] - 0s 13ms/step - loss: 0.0015\n",
      "Epoch 50/50\n",
      "34/34 [==============================] - 1s 16ms/step - loss: 0.0011\n"
     ]
    },
    {
     "data": {
      "text/plain": [
       "<tensorflow.python.keras.callbacks.History at 0x1b961a32520>"
      ]
     },
     "execution_count": 42,
     "metadata": {},
     "output_type": "execute_result"
    }
   ],
   "source": [
    "model.fit(x_train,y_train,batch_size=8, epochs=50)"
   ]
  },
  {
   "cell_type": "code",
   "execution_count": 45,
   "metadata": {},
   "outputs": [
    {
     "data": {
      "text/plain": [
       "2.54121007834882"
      ]
     },
     "execution_count": 45,
     "metadata": {},
     "output_type": "execute_result"
    }
   ],
   "source": [
    "# predictions\n",
    "predictions =  model.predict(x_test)\n",
    "predictions = scaler.inverse_transform(predictions)\n",
    "\n",
    "# RMSE\n",
    "\n",
    "rmse = np.sqrt(np.mean(((predictions  - y_test)**2)))\n",
    "rmse"
   ]
  },
  {
   "cell_type": "code",
   "execution_count": 48,
   "metadata": {},
   "outputs": [],
   "source": [
    "import warnings\n",
    "warnings.filterwarnings('ignore')"
   ]
  },
  {
   "cell_type": "code",
   "execution_count": 50,
   "metadata": {},
   "outputs": [
    {
     "data": {
      "image/png": "[encoded data removed]",
      "text/plain": [
       "<Figure size 1152x576 with 1 Axes>"
      ]
     },
     "metadata": {
      "needs_background": "light"
     },
     "output_type": "display_data"
    }
   ],
   "source": [
    "train = data_close[:train_len]\n",
    "valid = data_close[train_len:]\n",
    "valid['predictions'] = predictions\n",
    "\n",
    "plt.figure(figsize=(16,8))\n",
    "plt.plot(train['Close'])\n",
    "plt.plot(valid[['Close','predictions']])\n",
    "plt.title('LSTM Model Predictions')\n",
    "plt.xlabel('Date', fontsize=18)\n",
    "plt.ylabel('Close Price ($)', fontsize=18)\n",
    "plt.legend(['Train','Validation','Predictions'])\n",
    "plt.show()\n"
   ]
  },
  {
   "cell_type": "code",
   "execution_count": 51,
   "metadata": {},
   "outputs": [
    {
     "data": {
      "text/html": [
       "<div>\n",
       "<style scoped>\n",
       "    .dataframe tbody tr th:only-of-type {\n",
       "        vertical-align: middle;\n",
       "    }\n",
       "\n",
       "    .dataframe tbody tr th {\n",
       "        vertical-align: top;\n",
       "    }\n",
       "\n",
       "    .dataframe thead th {\n",
       "        text-align: right;\n",
       "    }\n",
       "</style>\n",
       "<table border=\"1\" class=\"dataframe\">\n",
       "  <thead>\n",
       "    <tr style=\"text-align: right;\">\n",
       "      <th></th>\n",
       "      <th>Close</th>\n",
       "      <th>predictions</th>\n",
       "    </tr>\n",
       "    <tr>\n",
       "      <th>Date</th>\n",
       "      <th></th>\n",
       "      <th></th>\n",
       "    </tr>\n",
       "  </thead>\n",
       "  <tbody>\n",
       "    <tr>\n",
       "      <th>2021-02-08</th>\n",
       "      <td>136.910004</td>\n",
       "      <td>137.731735</td>\n",
       "    </tr>\n",
       "    <tr>\n",
       "      <th>2021-02-09</th>\n",
       "      <td>136.009995</td>\n",
       "      <td>137.413666</td>\n",
       "    </tr>\n",
       "    <tr>\n",
       "      <th>2021-02-10</th>\n",
       "      <td>135.389999</td>\n",
       "      <td>136.604813</td>\n",
       "    </tr>\n",
       "    <tr>\n",
       "      <th>2021-02-11</th>\n",
       "      <td>135.130005</td>\n",
       "      <td>136.068527</td>\n",
       "    </tr>\n",
       "    <tr>\n",
       "      <th>2021-02-12</th>\n",
       "      <td>135.369995</td>\n",
       "      <td>135.977676</td>\n",
       "    </tr>\n",
       "    <tr>\n",
       "      <th>...</th>\n",
       "      <td>...</td>\n",
       "      <td>...</td>\n",
       "    </tr>\n",
       "    <tr>\n",
       "      <th>2021-05-11</th>\n",
       "      <td>125.910004</td>\n",
       "      <td>128.196243</td>\n",
       "    </tr>\n",
       "    <tr>\n",
       "      <th>2021-05-12</th>\n",
       "      <td>122.769997</td>\n",
       "      <td>126.823677</td>\n",
       "    </tr>\n",
       "    <tr>\n",
       "      <th>2021-05-13</th>\n",
       "      <td>124.970001</td>\n",
       "      <td>124.075241</td>\n",
       "    </tr>\n",
       "    <tr>\n",
       "      <th>2021-05-14</th>\n",
       "      <td>127.449997</td>\n",
       "      <td>125.988258</td>\n",
       "    </tr>\n",
       "    <tr>\n",
       "      <th>2021-05-17</th>\n",
       "      <td>126.269997</td>\n",
       "      <td>128.794647</td>\n",
       "    </tr>\n",
       "  </tbody>\n",
       "</table>\n",
       "<p>69 rows × 2 columns</p>\n",
       "</div>"
      ],
      "text/plain": [
       "                 Close  predictions\n",
       "Date                               \n",
       "2021-02-08  136.910004   137.731735\n",
       "2021-02-09  136.009995   137.413666\n",
       "2021-02-10  135.389999   136.604813\n",
       "2021-02-11  135.130005   136.068527\n",
       "2021-02-12  135.369995   135.977676\n",
       "...                ...          ...\n",
       "2021-05-11  125.910004   128.196243\n",
       "2021-05-12  122.769997   126.823677\n",
       "2021-05-13  124.970001   124.075241\n",
       "2021-05-14  127.449997   125.988258\n",
       "2021-05-17  126.269997   128.794647\n",
       "\n",
       "[69 rows x 2 columns]"
      ]
     },
     "execution_count": 51,
     "metadata": {},
     "output_type": "execute_result"
    }
   ],
   "source": [
    "valid"
   ]
  },
  {
   "cell_type": "code",
   "execution_count": null,
   "metadata": {},
   "outputs": [],
   "source": []
  }
 ],
 "metadata": {
  "kernelspec": {
   "display_name": "Python 3",
   "language": "python",
   "name": "python3"
  },
  "language_info": {
   "codemirror_mode": {
    "name": "ipython",
    "version": 3
   },
   "file_extension": ".py",
   "mimetype": "text/x-python",
   "name": "python",
   "nbconvert_exporter": "python",
   "pygments_lexer": "ipython3",
   "version": "3.8.5"
  }
 },
 "nbformat": 4,
 "nbformat_minor": 4
}
