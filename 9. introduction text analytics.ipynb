{
 "cells": [
  {
   "cell_type": "code",
   "execution_count": 26,
   "metadata": {},
   "outputs": [],
   "source": [
    "from nltk.corpus import brown\n",
    "import nltk"
   ]
  },
  {
   "cell_type": "code",
   "execution_count": 7,
   "metadata": {},
   "outputs": [
    {
     "name": "stdout",
     "output_type": "stream",
     "text": [
      "15\n"
     ]
    }
   ],
   "source": [
    "print(len(brown.categories()))"
   ]
  },
  {
   "cell_type": "code",
   "execution_count": 8,
   "metadata": {},
   "outputs": [
    {
     "data": {
      "text/plain": [
       "['adventure',\n",
       " 'belles_lettres',\n",
       " 'editorial',\n",
       " 'fiction',\n",
       " 'government',\n",
       " 'hobbies',\n",
       " 'humor',\n",
       " 'learned',\n",
       " 'lore',\n",
       " 'mystery',\n",
       " 'news',\n",
       " 'religion',\n",
       " 'reviews',\n",
       " 'romance',\n",
       " 'science_fiction']"
      ]
     },
     "execution_count": 8,
     "metadata": {},
     "output_type": "execute_result"
    }
   ],
   "source": [
    "brown.categories()"
   ]
  },
  {
   "cell_type": "code",
   "execution_count": 9,
   "metadata": {},
   "outputs": [
    {
     "data": {
      "text/plain": [
       "[['The', 'Fulton', 'County', 'Grand', 'Jury', 'said', 'Friday', 'an', 'investigation', 'of', \"Atlanta's\", 'recent', 'primary', 'election', 'produced', '``', 'no', 'evidence', \"''\", 'that', 'any', 'irregularities', 'took', 'place', '.'], ['The', 'jury', 'further', 'said', 'in', 'term-end', 'presentments', 'that', 'the', 'City', 'Executive', 'Committee', ',', 'which', 'had', 'over-all', 'charge', 'of', 'the', 'election', ',', '``', 'deserves', 'the', 'praise', 'and', 'thanks', 'of', 'the', 'City', 'of', 'Atlanta', \"''\", 'for', 'the', 'manner', 'in', 'which', 'the', 'election', 'was', 'conducted', '.'], ...]"
      ]
     },
     "execution_count": 9,
     "metadata": {},
     "output_type": "execute_result"
    }
   ],
   "source": [
    "brown.sents()"
   ]
  },
  {
   "cell_type": "code",
   "execution_count": 10,
   "metadata": {},
   "outputs": [
    {
     "data": {
      "text/plain": [
       "[['It', 'was', 'among', 'these', 'that', 'Hinkle', 'identified', 'a', 'photograph', 'of', 'Barco', '!', '!'], ['For', 'it', 'seems', 'that', 'Barco', ',', 'fancying', 'himself', 'a', \"ladies'\", 'man', '(', 'and', 'why', 'not', ',', 'after', 'seven', 'marriages', '?', '?'], ...]"
      ]
     },
     "execution_count": 10,
     "metadata": {},
     "output_type": "execute_result"
    }
   ],
   "source": [
    "brown.sents(categories='humor')"
   ]
  },
  {
   "cell_type": "code",
   "execution_count": 11,
   "metadata": {},
   "outputs": [
    {
     "data": {
      "text/plain": [
       "[['As', 'a', 'result', ',', 'although', 'we', 'still', 'make', 'use', 'of', 'this', 'distinction', ',', 'there', 'is', 'much', 'confusion', 'as', 'to', 'the', 'meaning', 'of', 'the', 'basic', 'terms', 'employed', '.'], ['Just', 'what', 'is', 'meant', 'by', '``', 'spirit', \"''\", 'and', 'by', '``', 'matter', \"''\", '?', '?'], ...]"
      ]
     },
     "execution_count": 11,
     "metadata": {},
     "output_type": "execute_result"
    }
   ],
   "source": [
    "brown.sents(categories='religion')"
   ]
  },
  {
   "cell_type": "code",
   "execution_count": 12,
   "metadata": {},
   "outputs": [
    {
     "data": {
      "text/plain": [
       "[[('It', 'PPS'), ('was', 'BEDZ'), ('among', 'IN'), ('these', 'DTS'), ('that', 'CS'), ('Hinkle', 'NP'), ('identified', 'VBD'), ('a', 'AT'), ('photograph', 'NN'), ('of', 'IN'), ('Barco', 'NP'), ('!', '.'), ('!', '.')], [('For', 'CS'), ('it', 'PPS'), ('seems', 'VBZ'), ('that', 'CS'), ('Barco', 'NP'), (',', ','), ('fancying', 'VBG'), ('himself', 'PPL'), ('a', 'AT'), (\"ladies'\", 'NNS$'), ('man', 'NN'), ('(', '('), ('and', 'CC'), ('why', 'WRB'), ('not', '*'), (',', ','), ('after', 'IN'), ('seven', 'CD'), ('marriages', 'NNS'), ('?', '.'), ('?', '.')], ...]"
      ]
     },
     "execution_count": 12,
     "metadata": {},
     "output_type": "execute_result"
    }
   ],
   "source": [
    "brown.tagged_sents(categories='humor')"
   ]
  },
  {
   "cell_type": "code",
   "execution_count": 19,
   "metadata": {},
   "outputs": [
    {
     "data": {
      "text/plain": [
       "1053"
      ]
     },
     "execution_count": 19,
     "metadata": {},
     "output_type": "execute_result"
    }
   ],
   "source": [
    "sentences =  brown.sents(categories='humor')\n",
    "sentences = [' '.join(sentence_token) for sentence_token in sentences]\n",
    "sentences[0:10]\n",
    "len(sentences)"
   ]
  },
  {
   "cell_type": "code",
   "execution_count": 21,
   "metadata": {},
   "outputs": [
    {
     "data": {
      "text/plain": [
       "[('It', 'PPS'), ('was', 'BEDZ'), ('among', 'IN'), ...]"
      ]
     },
     "execution_count": 21,
     "metadata": {},
     "output_type": "execute_result"
    }
   ],
   "source": [
    "tagged_words = brown.tagged_words(categories='humor')\n",
    "tagged_words"
   ]
  },
  {
   "cell_type": "code",
   "execution_count": 25,
   "metadata": {},
   "outputs": [
    {
     "data": {
      "text/plain": [
       "[('photograph', 'NN'),\n",
       " (\"ladies'\", 'NNS$'),\n",
       " ('man', 'NN'),\n",
       " ('marriages', 'NNS'),\n",
       " ('Beard', 'NN-TL'),\n",
       " ('roles', 'NNS'),\n",
       " ('instigation', 'NN'),\n",
       " ('murder', 'NN'),\n",
       " ('victim', 'NN'),\n",
       " ('beard', 'NN')]"
      ]
     },
     "execution_count": 25,
     "metadata": {},
     "output_type": "execute_result"
    }
   ],
   "source": [
    "nouns = [(word, tag) for word, tag in tagged_words if any(noun_tag in tag for noun_tag in ['NN'])]\n",
    "nouns[0:10]"
   ]
  },
  {
   "cell_type": "code",
   "execution_count": 29,
   "metadata": {},
   "outputs": [
    {
     "data": {
      "text/plain": [
       "[('time', 43),\n",
       " ('way', 28),\n",
       " ('things', 27),\n",
       " ('man', 21),\n",
       " ('years', 21),\n",
       " ('children', 20),\n",
       " ('day', 19),\n",
       " ('people', 19),\n",
       " ('room', 18),\n",
       " ('comedy', 14),\n",
       " ('heart', 14),\n",
       " ('thing', 13),\n",
       " ('house', 13),\n",
       " ('life', 12),\n",
       " ('case', 12),\n",
       " ('head', 12),\n",
       " ('Mother', 12),\n",
       " ('mother', 12),\n",
       " ('girl', 11),\n",
       " ('world', 11)]"
      ]
     },
     "execution_count": 29,
     "metadata": {},
     "output_type": "execute_result"
    }
   ],
   "source": [
    "nouns_freq = nltk.FreqDist([word for word, tag in nouns])\n",
    "nouns_freq.most_common(20)"
   ]
  },
  {
   "cell_type": "code",
   "execution_count": 30,
   "metadata": {},
   "outputs": [
    {
     "name": "stdout",
     "output_type": "stream",
     "text": [
      "90\n"
     ]
    }
   ],
   "source": [
    "from nltk.corpus import reuters\n",
    "print(len(reuters.categories()))"
   ]
  },
  {
   "cell_type": "code",
   "execution_count": 31,
   "metadata": {},
   "outputs": [
    {
     "data": {
      "text/plain": [
       "['acq',\n",
       " 'alum',\n",
       " 'barley',\n",
       " 'bop',\n",
       " 'carcass',\n",
       " 'castor-oil',\n",
       " 'cocoa',\n",
       " 'coconut',\n",
       " 'coconut-oil',\n",
       " 'coffee',\n",
       " 'copper',\n",
       " 'copra-cake',\n",
       " 'corn',\n",
       " 'cotton',\n",
       " 'cotton-oil',\n",
       " 'cpi',\n",
       " 'cpu',\n",
       " 'crude',\n",
       " 'dfl',\n",
       " 'dlr',\n",
       " 'dmk',\n",
       " 'earn',\n",
       " 'fuel',\n",
       " 'gas',\n",
       " 'gnp',\n",
       " 'gold',\n",
       " 'grain',\n",
       " 'groundnut',\n",
       " 'groundnut-oil',\n",
       " 'heat',\n",
       " 'hog',\n",
       " 'housing',\n",
       " 'income',\n",
       " 'instal-debt',\n",
       " 'interest',\n",
       " 'ipi',\n",
       " 'iron-steel',\n",
       " 'jet',\n",
       " 'jobs',\n",
       " 'l-cattle',\n",
       " 'lead',\n",
       " 'lei',\n",
       " 'lin-oil',\n",
       " 'livestock',\n",
       " 'lumber',\n",
       " 'meal-feed',\n",
       " 'money-fx',\n",
       " 'money-supply',\n",
       " 'naphtha',\n",
       " 'nat-gas',\n",
       " 'nickel',\n",
       " 'nkr',\n",
       " 'nzdlr',\n",
       " 'oat',\n",
       " 'oilseed',\n",
       " 'orange',\n",
       " 'palladium',\n",
       " 'palm-oil',\n",
       " 'palmkernel',\n",
       " 'pet-chem',\n",
       " 'platinum',\n",
       " 'potato',\n",
       " 'propane',\n",
       " 'rand',\n",
       " 'rape-oil',\n",
       " 'rapeseed',\n",
       " 'reserves',\n",
       " 'retail',\n",
       " 'rice',\n",
       " 'rubber',\n",
       " 'rye',\n",
       " 'ship',\n",
       " 'silver',\n",
       " 'sorghum',\n",
       " 'soy-meal',\n",
       " 'soy-oil',\n",
       " 'soybean',\n",
       " 'strategic-metal',\n",
       " 'sugar',\n",
       " 'sun-meal',\n",
       " 'sun-oil',\n",
       " 'sunseed',\n",
       " 'tea',\n",
       " 'tin',\n",
       " 'trade',\n",
       " 'veg-oil',\n",
       " 'wheat',\n",
       " 'wpi',\n",
       " 'yen',\n",
       " 'zinc']"
      ]
     },
     "execution_count": 31,
     "metadata": {},
     "output_type": "execute_result"
    }
   ],
   "source": [
    "reuters.categories()"
   ]
  },
  {
   "cell_type": "code",
   "execution_count": 33,
   "metadata": {},
   "outputs": [
    {
     "data": {
      "text/plain": [
       "['It was among these that Hinkle identified a photograph of Barco ! !',\n",
       " \"For it seems that Barco , fancying himself a ladies' man ( and why not , after seven marriages ? ?\",\n",
       " \") , had listed himself for Mormon Beard roles at the instigation of his fourth murder victim who had said : `` With your beard , dear , you ought to be in movies '' ! !\",\n",
       " \"Mills secured Barco's photograph from the gentleman in charge , rushed to the Hollywood police station to report the theft , and less than five minutes later , detectives with his picture in hand were on the trail of Cal Barco .\",\n",
       " 'On their way , they stopped at every gas station along the main boulevards to question the attendants .']"
      ]
     },
     "execution_count": 33,
     "metadata": {},
     "output_type": "execute_result"
    }
   ],
   "source": [
    "seteneces = reuters.sents(categories=['housing','income'])\n",
    "sentences[0:5]"
   ]
  },
  {
   "cell_type": "code",
   "execution_count": 42,
   "metadata": {},
   "outputs": [
    {
     "name": "stdout",
     "output_type": "stream",
     "text": [
      "Synset Name: jump.n.01\n",
      "POS Tag: n\n",
      "Definition : a sudden and decisive increase\n",
      "Example: ['a jump in attendance']\n",
      "\n",
      "Synset Name: leap.n.02\n",
      "POS Tag: n\n",
      "Definition : an abrupt transition\n",
      "Example: ['a successful leap from college to the major leagues']\n",
      "\n",
      "Synset Name: jump.n.03\n",
      "POS Tag: n\n",
      "Definition : (film) an abrupt transition from one scene to another\n",
      "Example: []\n",
      "\n",
      "Synset Name: startle.n.01\n",
      "POS Tag: n\n",
      "Definition : a sudden involuntary movement\n",
      "Example: ['he awoke with a start']\n",
      "\n",
      "Synset Name: jump.n.05\n",
      "POS Tag: n\n",
      "Definition : descent with a parachute\n",
      "Example: ['he had done a lot of parachuting in the army']\n",
      "\n",
      "Synset Name: jump.n.06\n",
      "POS Tag: n\n",
      "Definition : the act of jumping; propelling yourself off the ground\n",
      "Example: ['he advanced in a series of jumps', 'the jumping was unexpected']\n",
      "\n",
      "Synset Name: jump.v.01\n",
      "POS Tag: v\n",
      "Definition : move forward by leaps and bounds\n",
      "Example: ['The horse bounded across the meadow', 'The child leapt across the puddle', 'Can you jump over the fence?']\n",
      "\n",
      "Synset Name: startle.v.02\n",
      "POS Tag: v\n",
      "Definition : move or jump suddenly, as if in surprise or alarm\n",
      "Example: ['She startled when I walked into the room']\n",
      "\n",
      "Synset Name: jump.v.03\n",
      "POS Tag: v\n",
      "Definition : make a sudden physical attack on\n",
      "Example: ['The muggers jumped the woman in the fur coat']\n",
      "\n",
      "Synset Name: jump.v.04\n",
      "POS Tag: v\n",
      "Definition : increase suddenly and significantly\n",
      "Example: ['Prices jumped overnight']\n",
      "\n",
      "Synset Name: leap_out.v.01\n",
      "POS Tag: v\n",
      "Definition : be highly noticeable\n",
      "Example: []\n",
      "\n",
      "Synset Name: jump.v.06\n",
      "POS Tag: v\n",
      "Definition : enter eagerly into\n",
      "Example: ['He jumped into the game']\n",
      "\n",
      "Synset Name: rise.v.11\n",
      "POS Tag: v\n",
      "Definition : rise in rank or status\n",
      "Example: ['Her new novel jumped high on the bestseller list']\n",
      "\n",
      "Synset Name: jump.v.08\n",
      "POS Tag: v\n",
      "Definition : jump down from an elevated point\n",
      "Example: [\"the parachutist didn't want to jump\", 'every year, hundreds of people jump off the Golden Gate bridge', 'the widow leapt into the funeral pyre']\n",
      "\n",
      "Synset Name: derail.v.02\n",
      "POS Tag: v\n",
      "Definition : run off or leave the rails\n",
      "Example: ['the train derailed because a cow was standing on the tracks']\n",
      "\n",
      "Synset Name: chute.v.01\n",
      "POS Tag: v\n",
      "Definition : jump from an airplane and descend with a parachute\n",
      "Example: []\n",
      "\n",
      "Synset Name: jump.v.11\n",
      "POS Tag: v\n",
      "Definition : cause to jump or leap\n",
      "Example: ['the trainer jumped the tiger through the hoop']\n",
      "\n",
      "Synset Name: jumpstart.v.01\n",
      "POS Tag: v\n",
      "Definition : start (a car engine whose battery is dead) by connecting it to another car's battery\n",
      "Example: []\n",
      "\n",
      "Synset Name: jump.v.13\n",
      "POS Tag: v\n",
      "Definition : bypass\n",
      "Example: ['He skipped a row in the text and so the sentence was incomprehensible']\n",
      "\n",
      "Synset Name: leap.v.02\n",
      "POS Tag: v\n",
      "Definition : pass abruptly from one state or topic to another\n",
      "Example: ['leap into fame', 'jump to a conclusion', 'jump from one thing to another']\n",
      "\n",
      "Synset Name: alternate.v.01\n",
      "POS Tag: v\n",
      "Definition : go back and forth; swing back and forth between two states or conditions\n",
      "Example: []\n",
      "\n"
     ]
    }
   ],
   "source": [
    "from nltk.corpus import wordnet\n",
    "word_synsets = wordnet.synsets('jump')\n",
    "for synset in word_synsets:\n",
    "    print(('Synset Name: {name}\\n'\n",
    "          'POS Tag: {tag}\\n'\n",
    "          'Definition : {defn}\\n'\n",
    "          'Example: {ex}\\n').format(name=synset.name(),tag=synset.pos(),defn=synset.definition(),ex=synset.examples()))"
   ]
  },
  {
   "cell_type": "code",
   "execution_count": 46,
   "metadata": {},
   "outputs": [
    {
     "name": "stdout",
     "output_type": "stream",
     "text": [
      "b'<!DOCTYPE html>\\n<html class=\"client-nojs\" lang=\"en\" dir=\"ltr\">\\n<head>\\n<meta charset=\"UTF-8\"/>\\n<title>Natural language processing - Wikipedia</title>\\n<script>document.documentElement.className=\"client-js\";RLCONF={\"wgBreakFrames\":!1,\"wgSeparatorTransformTable\":[\"\",\"\"],\"wgDigitTransformTable\":[\"\",\"\"],\"wgDefaultDateFormat\":\"dmy\",\"wgMonthNames\":[\"\",\"January\",\"February\",\"March\",\"April\",\"May\",\"June\",\"July\",\"August\",\"September\",\"October\",\"November\",\"December\"],\"wgRequestId\":\"de7b8ede-b923-41d6-9eb8-8208baa9d893\",\"wgCSPNonce\":!1,\"wgCanonicalNamespace\":\"\",\"wgCanonicalSpecialPageName\":!1,\"wgNamespaceNumber\":0,\"wgPageName\":\"Natural_language_processing\",\"wgTitle\":\"Natural language processing\",\"wgCurRevisionId\":1016426461,\"wgRevisionId\":1016426461,\"wgArticleId\":21652,\"wgIsArticle\":!0,\"wgIsRedirect\":!1,\"wgAction\":\"view\",\"wgUserName\":null,\"wgUserGroups\":[\"*\"],\"wgCategories\":[\"CS1 maint: location\",\"Articles with short description\",\"Short description matches Wikidata\",\"Commons link from Wikidata\",\"Wikip'\n"
     ]
    }
   ],
   "source": [
    "import requests\n",
    "url ='https://en.wikipedia.org/wiki/Natural_language_processing'\n",
    "data =  requests.get(url)\n",
    "content =  data.content\n",
    "print(content[0:1000])"
   ]
  },
  {
   "cell_type": "code",
   "execution_count": 48,
   "metadata": {},
   "outputs": [],
   "source": [
    "import re\n",
    "from bs4 import BeautifulSoup"
   ]
  },
  {
   "cell_type": "code",
   "execution_count": 52,
   "metadata": {},
   "outputs": [],
   "source": [
    "def extract_text(text):\n",
    "    soup = BeautifulSoup(text,'html.parser')\n",
    "    [s.extract() for s in soup(['iframe','script'])]\n",
    "    stripped_text = soup.get_text()\n",
    "    stripped_text = re.sub(r'[\\r|\\n|\\r\\n]+','',stripped_text) \n",
    "    return stripped_text"
   ]
  },
  {
   "cell_type": "code",
   "execution_count": 53,
   "metadata": {},
   "outputs": [
    {
     "data": {
      "text/plain": [
       "'Natural language processing - WikipediaNatural language processingFrom Wikipedia, the free encyclopediaJump to navigationJump to searchField of computer science and linguistics An automated online assistant providing customer service on a web page, an example of an application where natural language processing is a major component.[1]Natural language processing (NLP) is a subfield of linguistics, computer science, and artificial intelligence concerned with the interactions between computers and human language, in particular how to program computers to process and analyze large amounts of natural language data.  The result is a computer capable of \"understanding\" the contents of documents, including the contextual nuances of the language within them. The technology can then accurately extract information and insights contained in the documents as well as categorize and organize the documents themselves. Challenges in natural language processing frequently involve speech recognition, natural language understanding, and natural-language generation.Contents1 History1.1 Symbolic NLP (1950s - early 1990s)1.2 Statistical NLP (1990s - 2010s)1.3 Neural NLP (present)2 Methods: Rules, statistics, neural networks2.1 Statistical methods2.2 Neural networks3 Common NLP tasks3.1 Text and speech processing3.2 Morphological analysis3.3 Syntactic analysis3.4 Lexical semantics (of individual words in context)3.5 Relational semantics (semantics of individual sentences)3.6 Discourse (semantics beyond individual sentences)3.7 Higher-level NLP applications4 General tendencies and (possible) future directions4.1 Cognition and NLP5 See also6 References7 Further readingHistory[edit]Further information: History of natural language processingNatural language processing has its roots in the 1950s. Already in 1950, Alan Turing published an article titled \"Computing Machinery and Intelligence\" which proposed what is now called the Turing test as a criterion of intelligence, a task that involves the automated interpretation and generation of natural language, but at the time not articulated as a problem separate from artificial intelligence.Symbolic NLP (1950s - early 1990s)[edit]The premise of symbolic NLP is well-summarized by John Searle\\'s Chinese room experiment: Given a collection of rules (e.g., a Chinese phrasebook, with questions and matching answers), the computer emulates natural language understanding (or other NLP tasks) by applying those rules to the data it is confronted with.1950s: The Georgetown experiment in 1954 involved fully automatic translation of more than sixty Russian sentences into English. The authors claimed that within three or five years, machine translation would be a solved problem.[2]  However, real progress was much slower, and after the ALPAC report in 1966, which found that ten-year-long research had failed to fulfill the expectations, funding for machine translation was dramatically reduced.  Little further research in machine translation was conducted until the late 1980s when the first statistical machine translation systems were developed.1960s: Some notably successful natural language processing systems developed in the 1960s were SHRDLU, a natural language system working in restricted \"blocks worlds\" with restricted vocabularies, and ELIZA, a simulation of a Rogerian psychotherapist, written by Joseph Weizenbaum between 1964 and 1966.  Using almost no information about human thought or emotion, ELIZA sometimes provided a startlingly human-like interaction. When the \"patient\" exceeded the very small knowledge base, ELIZA might provide a generic response, for example, responding to \"My head hurts\" with \"Why do you say your head hurts?\".1970s: During the 1970s, many programmers began to write \"conceptual ontologies\", which structured real-world information into computer-understandable data.  Examples are MARGIE (Schank, 1975), SAM (Cullingford, 1978), PAM (Wilensky, 1978), TaleSpin (Meehan, 1976), QUALM (Lehnert, 1977), Politics (Carbonell, 1979), and Plot Units (Lehnert 1981).  During this time, the first many chatterbots were written (e.g., PARRY).1980s: The 1980s and early 1990s mark the hey-day of symbolic methods in NLP. Focus areas of the time included research on rule-based parsing (e.g., the development of HPSG as a computational operationalization of generative grammar), morphology (e.g., two-level morphology[3]), semantics (e.g., Lesk algorithm), reference (e.g., within Centering Theory[4]) and other areas of natural language understanding (e.g., in the Rhetorical Structure Theory). Other lines of research were continued, e.g., the development of chatterbots with Racter and Jabberwacky. An important development (that eventually led to the statistical turn in the 1990s) was the rising importance of quantitative evaluation in this period.[5]Statistical NLP (1990s - 2010s)[edit]Up to the 1980s, most natural language processing systems were based on complex sets of hand-written rules.  Starting in the late 1980s, however, there was a revolution in natural language processing with the introduction of machine learning algorithms for language processing.  This was due to both the steady increase in computational power (see Moore\\'s law) and the gradual lessening of the dominance of Chomskyan theories of linguistics (e.g. transformational grammar), whose theoretical underpinnings discouraged the sort of corpus linguistics that underlies the machine-learning approach to language processing.[6]1990s: Many of the notable early successes on statistical methods in NLP occurred in the field of machine translation, due especially to work at IBM Research.  These systems were able to take advantage of existing multilingual textual corpora that had been produced by the Parliament of Canada and the European Union as a result of laws calling for the translation of all governmental proceedings into all official languages of the corresponding systems of government.  However, most other systems depended on corpora specifically developed for the tasks implemented by these systems, which was (and often continues to be) a major limitation in the success of these systems. As a result, a great deal of research has gone into methods of more effectively learning from limited amounts of data.2000s: With the growth of the web, increasing amounts of raw (unannotated) language data has become available since the mid-1990s. Research has thus increasingly focused on unsupervised and semi-supervised learning algorithms.  Such algorithms can learn from data that has not been hand-annotated with the desired answers or using a combination of annotated and non-annotated data.  Generally, this task is much more difficult than supervised learning, and typically produces less accurate results for a given amount of input data.  However, there is an enormous amount of non-annotated data available (including, among other things, the entire content of the World Wide Web), which can often make up for the inferior results if the algorithm used has a low enough time complexity to be practical.Neural NLP (present)[edit]In the 2010s, representation learning and deep neural network-style machine learning methods became widespread in natural language processing, due in part to a flurry of results showing that such techniques[7][8] can achieve state-of-the-art results in many natural language tasks, for example in language modeling,[9] parsing,[10][11] and many others.Methods: Rules, statistics, neural networks[edit]In the early days, many language-processing systems were designed by symbolic methods, i.e., the hand-coding of a set of rules, coupled with a dictionary lookup:[12][13] such as by writing grammars or devising heuristic rules for stemming.More recent systems based on machine-learning algorithms have many advantages over hand-produced rules: The learning procedures used during machine learning automatically focus on the most common cases, whereas when writing rules by hand it is often not at all obvious where the effort should be directed.Automatic learning procedures can make use of statistical inference algorithms to produce models that are robust to unfamiliar input (e.g. containing words or structures that have not been seen before) and to erroneous input (e.g. with misspelled words or words accidentally omitted). Generally, handling such input gracefully with handwritten rules, or, more generally, creating systems of handwritten rules that make soft decisions, is extremely difficult, error-prone and time-consuming.Systems based on automatically learning the rules can be made more accurate simply by supplying more input data. However, systems based on handwritten rules can only be made more accurate by increasing the complexity of the rules, which is a much more difficult task. In particular, there is a limit to the complexity of systems based on handwritten rules, beyond which the systems become more and more unmanageable. However, creating more data to input to machine-learning systems simply requires a corresponding increase in the number of man-hours worked, generally without significant increases in the complexity of the annotation process.Despite the popularity of machine learning in NLP research, symbolic methods are still (2020) commonly usedwhen the amount of training data is insufficient to successfully apply machine learning methods, e.g., for the machine translation of low-resource languages such as provided by the Apertium system,for preprocessing in NLP pipelines, e.g., tokenization, orfor postprocessing and transforming the output of NLP pipelines, e.g., for knowledge extraction from syntactic parses.Statistical methods[edit]Since the so-called \"statistical revolution\"[14][15] in the late 1980s and mid-1990s, much natural language processing research has relied heavily on machine learning. The machine-learning paradigm calls instead for using statistical inference to automatically learn such rules through the analysis of large corpora (the plural form of corpus, is a set of documents, possibly with human or computer annotations) of typical real-world examples.Many different classes of machine-learning algorithms have been applied to natural-language-processing tasks. These algorithms take as input a large set of \"features\" that are generated from the input data. Increasingly, however, research has focused on statistical models, which make soft, probabilistic decisions based on attaching real-valued weights to each input feature. Such models have the advantage that they can express the relative certainty of many different possible answers rather than only one, producing more reliable results when such a model is included as a component of a larger system.Some of the earliest-used machine learning algorithms, such as decision trees, produced systems of hard if-then rules similar to existing hand-written rules.  However, part-of-speech tagging introduced the use of hidden Markov models to natural language processing, and increasingly, research has focused on statistical models, which make soft, probabilistic decisions based on attaching real-valued weights to the features making up the input data. The cache language models upon which many speech recognition systems now rely are examples of such statistical models.  Such models are generally more robust when given unfamiliar input, especially input that contains errors (as is very common for real-world data), and produce more reliable results when integrated into a larger system comprising multiple subtasks.Since the neural turn, statistical methods in NLP research have been largely replaced by neural networks. However, they continue to be relevant for contexts in which statistical interpretability and transparency is required.Neural networks[edit]Further information: Artificial neural networkA major drawback of statistical methods is that they require elaborate feature engineering. Since 2015,[16] the field has thus largely abandoned statistical methods and shifted to neural networks for machine learning. Popular techniques include the use of word embeddings to capture semantic properties of words, and an increase in end-to-end learning of a higher-level task (e.g., question answering) instead of relying on a pipeline of separate intermediate tasks (e.g., part-of-speech tagging and dependency parsing). In some areas, this shift has entailed substantial changes in how NLP systems are designed, such that deep neural network-based approaches may be viewed as a new paradigm distinct from statistical natural language processing. For instance, the term neural machine translation (NMT) emphasizes the fact that deep learning-based approaches to machine translation directly learn sequence-to-sequence transformations, obviating the need for intermediate steps such as word alignment and language modeling that was used in statistical machine translation (SMT). Latest works tend to use non-technical structure of a given task to build proper neural network.[17]Common NLP tasks[edit]The following is a list of some of the most commonly researched tasks in natural language processing. Some of these tasks have direct real-world applications, while others more commonly serve as subtasks that are used to aid in solving larger tasks.Though natural language processing tasks are closely intertwined, they can be subdivided into categories for convenience. A coarse division is given below.Text and speech processing[edit]Optical character recognition (OCR)Given an image representing printed text, determine the corresponding text.Speech recognitionGiven a sound clip of a person or people speaking, determine the textual representation of the speech.  This is the opposite of text to speech and is one of the extremely difficult problems colloquially termed \"AI-complete\" (see above).  In natural speech there are hardly any pauses between successive words, and thus speech segmentation is a necessary subtask of speech recognition (see below). In most spoken languages, the sounds representing successive letters blend into each other in a process termed coarticulation, so the conversion of the analog signal to discrete characters can be a very difficult process. Also, given that words in the same language are spoken by people with different accents, the speech recognition software must be able to recognize the wide variety of input as being identical to each other in terms of its textual equivalent.Speech segmentationGiven a sound clip of a person or people speaking, separate it into words.  A subtask of speech recognition and typically grouped with it.Text-to-speechGiven a text, transform those units and produce a spoken representation. Text-to-speech can be used to aid the visually impaired.[18]Word segmentation (Tokenization)Separate a chunk of continuous text into separate words. For a language like English, this is fairly trivial, since words are usually separated by spaces. However, some written languages like Chinese, Japanese and Thai do not mark word boundaries in such a fashion, and in those languages text segmentation is a significant task requiring knowledge of the vocabulary and morphology of words in the language. Sometimes this process is also used in cases like bag of words (BOW) creation in data mining.Morphological analysis[edit]LemmatizationThe task of removing inflectional endings only and to return the base dictionary form of a word which is also known as a lemma. Lemmatization is another technique for reducing words to their normalized form. But in this case, the transformation actually uses a dictionary to map words to their actual form.[19]Morphological segmentationSeparate words into individual morphemes and identify the class of the morphemes. The difficulty of this task depends greatly on the complexity of the morphology (i.e., the structure of words) of the language being considered. English has fairly simple morphology, especially inflectional morphology, and thus it is often possible to ignore this task entirely and simply model all possible forms of a word (e.g., \"open, opens, opened, opening\") as separate words. In languages such as Turkish or Meitei,[20] a highly agglutinated Indian language, however, such an approach is not possible, as each dictionary entry has thousands of possible word forms.Part-of-speech taggingGiven a sentence, determine the part of speech (POS) for each word. Many words, especially common ones, can serve as multiple parts of speech. For example, \"book\" can be a noun (\"the book on the table\") or verb (\"to book a flight\"); \"set\" can be a noun, verb or adjective; and \"out\" can be any of at least five different parts of speech.StemmingThe process of reducing inflected (or sometimes derived) words to a base form (e.g., \"close\" will be the root for \"closed\", \"closing\", \"close\", \"closer\" etc.). Stemming yields similar results as lemmatization, but does so on grounds of rules, not a dictionary.Syntactic analysis[edit]Grammar induction[21]Generate a formal grammar that describes a language\\'s syntax.Sentence breaking (also known as \"sentence boundary disambiguation\")Given a chunk of text, find the sentence boundaries. Sentence boundaries are often marked by periods or other punctuation marks, but these same characters can serve other purposes (e.g., marking abbreviations).ParsingDetermine the parse tree (grammatical analysis) of a given sentence. The grammar for natural languages is ambiguous and typical sentences have multiple possible analyses: perhaps surprisingly, for a typical sentence there may be thousands of potential parses (most of which will seem completely nonsensical to a human). There are two primary types of parsing: dependency parsing and constituency parsing. Dependency parsing focuses on the relationships between words in a sentence (marking things like primary objects and predicates), whereas constituency parsing focuses on building out the parse tree using a probabilistic context-free grammar (PCFG) (see also stochastic grammar).Lexical semantics (of individual words in context)[edit]Lexical semanticsWhat is the computational meaning of individual words in context?Distributional semanticsHow can we learn semantic representations from data?Named entity recognition (NER)Given a stream of text, determine which items in the text map to proper names, such as people or places, and what the type of each such name is (e.g. person, location, organization). Although capitalization can aid in recognizing named entities in languages such as English, this information cannot aid in determining the type of named entity, and in any case, is often inaccurate or insufficient.  For example, the first letter of a sentence is also capitalized, and named entities often span several words, only some of which are capitalized.  Furthermore, many other languages in non-Western scripts (e.g. Chinese or Arabic) do not have any capitalization at all, and even languages with capitalization may not consistently use it to distinguish names. For example, German capitalizes all nouns, regardless of whether they are names, and French and Spanish do not capitalize names that serve as adjectives.Sentiment analysis (see also Multimodal sentiment analysis)Extract subjective information usually from a set of documents, often using online reviews to determine \"polarity\" about specific objects. It is especially useful for identifying trends of public opinion in social media, for marketing.Terminology extractionThe goal of terminology extraction is to automatically extract relevant terms from a given corpus.Word sense disambiguationMany words have more than one meaning; we have to select the meaning which makes the most sense in context.  For this problem, we are typically given a list of words and associated word senses, e.g. from a dictionary or an online resource such as WordNet.Relational semantics (semantics of individual sentences)[edit]Relationship extractionGiven a chunk of text, identify the relationships among named entities (e.g. who is married to whom).Semantic parsingGiven a piece of text (typically a sentence), produce a formal representation of its semantics, either as a graph (e.g., in AMR parsing) or in accordance with a logical formalism (e.g., in DRT parsing). This challenge typically includes aspects of several more elementary NLP tasks from semantics (e.g., semantic role labelling, word sense disambiguation) and can be extended to include full-fledged discourse analysis (e.g., discourse analysis, coreference; see Natural language understanding below).Semantic role labelling (see also implicit semantic role labelling below)Given a single sentence, identify and disambiguate semantic predicates (e.g., verbal frames), then identify and classify the frame elements (semantic roles).Discourse (semantics beyond individual sentences)[edit]Coreference resolutionGiven a sentence or larger chunk of text, determine which words (\"mentions\") refer to the same objects (\"entities\"). Anaphora resolution is a specific example of this task, and is specifically concerned with matching up pronouns with the nouns or names to which they refer. The more general task of coreference resolution also includes identifying so-called \"bridging relationships\" involving referring expressions. For example, in a sentence such as \"He entered John\\'s house through the front door\", \"the front door\" is a referring expression and the bridging relationship to be identified is the fact that the door being referred to is the front door of John\\'s house (rather than of some other structure that might also be referred to).Discourse analysisThis rubric includes several related tasks.  One task is discourse parsing, i.e., identifying the discourse structure of a connected text, i.e. the nature of the discourse relationships between sentences (e.g. elaboration, explanation, contrast).  Another possible task is recognizing and classifying the speech acts in a chunk of text (e.g. yes-no question, content question, statement, assertion, etc.).Implicit semantic role labellingGiven a single sentence, identify and disambiguate semantic predicates (e.g., verbal frames) and their explicit semantic roles in the current sentence (see Semantic role labelling above). Then, identify semantic roles that are not explicitly realized in the current sentence, classify them into arguments that are explicitly realized elsewhere in the text and those that are not specified, and resolve the former against the local text. A closely related task is zero anaphora resolution, i.e., the extension of coreference resolution to pro-drop languages.Recognizing textual entailmentGiven two text fragments, determine if one being true entails the other, entails the other\\'s negation, or allows the other to be either true or false.[22]Topic segmentation and recognitionGiven a chunk of text, separate it into segments each of which is devoted to a topic, and identify the topic of the segment.Argument miningThe goal of argument mining is the automatic extraction and identification of argumentative structures from natural language text with the aid of computer programs. [23] Such argumentative structures include the premise, conclusions, the argument scheme and the relationship between the main and subsidiary argument, or the main and counter-argument within discourse. [24][25]Higher-level NLP applications[edit]Automatic summarization (text summarization)Produce a readable summary of a chunk of text.  Often used to provide summaries of the text of a known type, such as research papers, articles in the financial section of a newspaper.Book generationNot an NLP task proper but an extension of natural language generation and other NLP tasks is the creation of full-fledged books. The first machine-generated book was created by a rule-based system in 1984 (Racter, The policeman\\'s beard is half-constructed).[26] The first published work by a neural network was published in 2018, 1 the Road, marketed as a novel, contains sixty million words. Both these systems are basically elaborate but non-sensical (semantics-free) language models. The first machine-generated science book was published in 2019 (Beta Writer, Lithium-Ion Batteries, Springer, Cham).[27] Unlike Racter and 1 the Road, this is grounded on factual knowledge and based on text summarization.Dialogue managementComputer systems intended to converse with a human.Document AIA Document AI platform sits on top of the NLP technology enabling users with no prior experience of artificial intelligence, machine learning or NLP to quickly train a computer to extract the specific data they need from different document types. NLP-powered Document AI enables non-technical teams to quickly access information hidden in documents, for example, lawyers, business analysts and accountants.[28]Grammatical error correctionGrammatical error detection and correction involves a great band-width of problems on all levels of linguistic analysis (phonology/orthography, morphology, syntax, semantics, pragmatics). Grammatical error correction is impactful since it affects hundreds of millions of people that use or acquire English as a second language. It has thus been subject to a number of shared tasks since 2011.[29][30][31] As far as orthography, morphology, syntax and certain aspects of semantics are concerned, and due to the development of powerful neural language models such as GPT-2, this can now (2019) be considered a largely solved problem and is being marketed in various commercial applications.[32]Machine translationAutomatically translate text from one human language to another.  This is one of the most difficult problems, and is a member of a class of problems colloquially termed \"AI-complete\", i.e. requiring all of the different types of knowledge that humans possess (grammar, semantics, facts about the real world, etc.) to solve properly.Natural language generation (NLG):Convert information from computer databases or semantic intents into readable human language.Natural language understanding (NLU)Convert chunks of text into more formal representations such as first-order logic structures that are easier for computer programs to manipulate. Natural language understanding involves the identification of the intended semantic from the multiple possible semantics which can be derived from a natural language expression which usually takes the form of organized notations of natural language concepts. Introduction and creation of language metamodel and ontology are efficient however empirical solutions. An explicit formalization of natural language semantics without confusions with implicit assumptions such as closed-world assumption (CWA) vs. open-world assumption, or subjective Yes/No vs. objective True/False is expected for the construction of a basis of semantics formalization.[33]Question answeringGiven a human-language question, determine its answer. Typical questions have a specific right answer (such as \"What is the capital of Canada?\"), but sometimes open-ended questions are also considered (such as \"What is the meaning of life?\"). Recent works have looked at even more complex questions.[34]General tendencies and (possible) future directions[edit]Based on long-standing trends in the field, it is possible to extrapolate future directions of NLP. As of 2020, three trends among the topics of the long-standing series of CoNLL Shared Tasks can be observed:[35]Interest on increasingly abstract, \"cognitive\" aspects of natural language (1999-2001: shallow parsing, 2002-03: named entity recognition, 2006-09/2017-18: dependency syntax, 2004-05/2008-09 semantic role labelling, 2011-12 coreference, 2015-16: discourse parsing, 2019: semantic parsing).Increasing interest in multilinguality, and, potentially, multimodality (English since 1999; Spanish, Dutch since 2002; German since 2003; Bulgarian, Danish, Japanese, Portuguese, Slovenian, Swedish, Turkish since 2006; Basque, Catalan, Chinese, Greek, Hungarian, Italian, Turkish since 2007; Czech since 2009; Arabic since 2012; 2017: 40+ languages; 2018: 60+/100+ languages)Elimination of symbolic representations (rule-based over supervised towards weakly supervised methods, representation learning and end-to-end systems)Cognition and NLP[edit]Most more higher-level NLP applications involve aspects that emulate intelligent behaviour and apparent comprehension of natural language. More broadly speaking, the technical operationalization of increasingly advanced aspects of cognitive behaviour represents one of the developmental trajectories of NLP (see trends among CoNLL shared tasks above).Cognition refers to \"the mental action or process of acquiring knowledge and understanding through thought, experience, and the senses.\"[36] Cognitive science is the interdisciplinary, scientific study of the mind and its processes.[37] Cognitive linguistics is an interdisciplinary branch of linguistics, combining knowledge and research from both psychology and linguistics.[38] Especially during the age of symbolic NLP, the area of computational linguistics maintained strong ties with cognitive studies. As an example, George Lakoff offers a methodology to build natural language processing (NLP) algorithms through the perspective of cognitive science, along with the findings of cognitive linguistics,[39] with two defining aspects: Apply the theory of conceptual metaphor, explained by Lakoff as “the understanding of one idea, in terms of another” which provides an idea of the intent of the author.[40] For example, consider the English word “big”. When used in a comparison (“That is a big tree”), the author\\'s intent is to imply that the tree is ”physically large” relative to other trees or the authors experience.  When used metaphorically (”Tomorrow is a big day”), the author’s intent to imply ”importance”.  The intent behind other usages, like in ”She is a big person” will remain somewhat ambiguous to a person and a cognitive NLP algorithm alike without additional information.Assign relative measures of meaning to a word, phrase, sentence or piece of text based on the information presented before and after the piece of text being analyzed, e.g., by means of a probabilistic context-free grammar (PCFG). The mathematical equation for such algorithms is presented in US patent 9269353\\xa0:RMM(tokenN)=PMM(tokenN)×12d(∑i=−dd((PMM(tokenN−1)×PF(tokenN,tokenN−1))i){\\\\displaystyle {RMM(token_{N})}={PMM(token_{N})}\\\\times {\\\\frac {1}{2d}}\\\\left(\\\\sum _{i=-d}^{d}{((PMM(token_{N-1})}\\\\times {PF(token_{N},token_{N-1}))_{i}}\\\\right)}Where,RMM, is the Relative Measure of Meaningtoken, is any block of text, sentence, phrase or wordN, is the number of tokens being analyzedPMM, is the Probable Measure of Meaning based on a corporad, is the location of the token along the sequence of N-1 tokensPF, is the Probability Function specific to a languageTies with cognitive linguistics are part of the historical heritage of NLP, but they have been less frequently addressed since the statistical turn during the 1990s. Nevertheless, approaches to develop cognitive models towards technically operationalizable frameworks have been pursued in the context of various frameworks, e.g., of cognitive grammar,[41] functional grammar,[42] construction grammar,[43] computational psycholinguistics and cognitive neuroscience (e.g., ACT-R), however, with limited uptake in mainstream NLP (as measured by presence on major conferences[44] of the ACL). More recently, ideas of cognitive NLP have been revived as an approach to achieve explainability, e.g., under the notion of \"cognitive AI\".[45] Likewise, ideas of cognitive NLP are inherent to neural models multimodal NLP (although rarely made explicit).[46]See also[edit]1 the RoadAutomated essay scoringBiomedical text miningCompound term processingComputational linguisticsComputer-assisted reviewingControlled natural languageDeep learningDeep linguistic processingDistributional semanticsForeign language reading aidForeign language writing aidInformation extractionInformation retrievalLanguage and Communication TechnologiesLanguage technologyLatent semantic indexingNative-language identificationNatural language programmingNatural language searchOutline of natural language processingQuery expansionQuery understandingReification (linguistics)Speech processingSpoken dialogue systemText-proofingText simplificationTransformer (machine learning model)TruecasingQuestion answeringWord2vecReferences[edit]^ Kongthon, Alisa; Sangkeettrakarn, Chatchawal; Kongyoung, Sarawoot; Haruechaiyasak, Choochart (October 27–30, 2009). Implementing an online help desk system based on conversational agent. MEDES \\'09: The International Conference on Management of Emergent Digital EcoSystems. France: ACM. doi:10.1145/1643823.1643908.^ Hutchins, J. (2005). \"The history of machine translation in a nutshell\" (PDF).[self-published source]^ Koskenniemi, Kimmo (1983), Two-level morphology: A general computational model of word-form recognition and production (PDF), Department of General Linguistics, University of Helsinki^ Joshi, A. K., & Weinstein, S. (1981, August). Control of Inference: Role of Some Aspects of Discourse Structure-Centering. In IJCAI (pp. 385-387).^ Guida, G.; Mauri, G. (July 1986). \"Evaluation of natural language processing systems: Issues and approaches\". Proceedings of the IEEE. 74 (7): 1026–1035. doi:10.1109/PROC.1986.13580. ISSN\\xa01558-2256. S2CID\\xa030688575.^ Chomskyan linguistics encourages the investigation of \"corner cases\" that stress the limits of its theoretical models (comparable to pathological phenomena in mathematics), typically created using thought experiments, rather than the systematic investigation of typical phenomena that occur in real-world data, as is the case in corpus linguistics.  The creation and use of such corpora of real-world data is a fundamental part of machine-learning algorithms for natural language processing.  In addition, theoretical underpinnings of Chomskyan linguistics such as the so-called \"poverty of the stimulus\" argument entail that general learning algorithms, as are typically used in machine learning, cannot be successful in language processing.  As a result, the Chomskyan paradigm discouraged the application of such models to language processing.^ Goldberg, Yoav (2016). \"A Primer on Neural Network Models for Natural Language Processing\". Journal of Artificial Intelligence Research. 57: 345–420. arXiv:1807.10854. doi:10.1613/jair.4992. S2CID\\xa08273530.^ Goodfellow, Ian; Bengio, Yoshua; Courville, Aaron (2016). Deep Learning. MIT Press.^ Jozefowicz, Rafal; Vinyals, Oriol; Schuster, Mike; Shazeer, Noam; Wu, Yonghui (2016). Exploring the Limits of Language Modeling. arXiv:1602.02410. Bibcode:2016arXiv160202410J.^ Choe, Do Kook; Charniak, Eugene. \"Parsing as Language Modeling\". Emnlp 2016.^ Vinyals, Oriol;  et\\xa0al. (2014). \"Grammar as a Foreign Language\" (PDF). Nips2015. arXiv:1412.7449. Bibcode:2014arXiv1412.7449V.^ Winograd, Terry (1971). Procedures as a Representation for Data in a Computer Program for Understanding Natural Language (Thesis).^ Schank, Roger C.; Abelson, Robert P. (1977). Scripts, Plans, Goals, and Understanding: An Inquiry Into Human Knowledge Structures. Hillsdale: Erlbaum. ISBN\\xa00-470-99033-3.^ Mark Johnson. How the statistical revolution changes (computational) linguistics. Proceedings of the EACL 2009 Workshop on the Interaction between Linguistics and Computational Linguistics.^ Philip Resnik. Four revolutions. Language Log, February 5, 2011.^ Socher, Richard. \"Deep Learning For NLP-ACL 2012 Tutorial\". www.socher.org. Retrieved 2020-08-17. This was an early Deep Learning tutorial at the ACL 2012 and met with both interest and (at the time) skepticism by most participants. Until then, neural learning was basically rejected because of its lack of statistical interpretability. Until 2015, deep learning had evolved into the major framework of NLP.^ Annamoradnejad, I. (2020). Colbert: Using bert sentence embedding for humor detection. arXiv preprint arXiv:2004.12765.^ Yi, Chucai; Tian, Yingli (2012), \"Assistive Text Reading from Complex Background for Blind Persons\", Camera-Based Document Analysis and Recognition, Springer Berlin Heidelberg, pp.\\xa015–28, CiteSeerX\\xa010.1.1.668.869, doi:10.1007/978-3-642-29364-1_2, ISBN\\xa09783642293634^ \"What is Natural Language Processing? Intro to NLP in Machine Learning\". GyanSetu!. 2020-12-06. Retrieved 2021-01-09.^ Kishorjit, N.; Vidya, Raj RK.; Nirmal, Y.; Sivaji, B. (2012). \"Manipuri Morpheme Identification\" (PDF). Proceedings of the 3rd Workshop on South and Southeast Asian Natural Language Processing (SANLP). COLING 2012, Mumbai, December 2012: 95–108.CS1 maint: location (link)^ Klein, Dan; Manning, Christopher D. (2002). \"Natural language grammar induction using a constituent-context model\" (PDF). Advances in Neural Information Processing Systems.^ PASCAL Recognizing Textual Entailment Challenge (RTE-7) https://tac.nist.gov//2011/RTE/^ Lippi, Marco; Torroni, Paolo (2016-04-20). \"Argumentation Mining: State of the Art and Emerging Trends\". ACM Transactions on Internet Technology. 16 (2): 1–25. doi:10.1145/2850417. ISSN\\xa01533-5399.^ \"Argument Mining - IJCAI2016 Tutorial\". www.i3s.unice.fr. Retrieved 2021-03-09.^ \"NLP Approaches to Computational Argumentation – ACL 2016, Berlin\". Retrieved 2021-03-09.^ \"U B U W E B\\xa0:: Racter\". www.ubu.com. Retrieved 2020-08-17.^ Writer, Beta (2019). Lithium-Ion Batteries. doi:10.1007/978-3-030-16800-1. ISBN\\xa0978-3-030-16799-8.^ \"Document Understanding AI on Google Cloud (Cloud Next \\'19) - YouTube\". www.youtube.com. Retrieved 2021-01-11.^ Administration. \"Centre for Language Technology (CLT)\". Macquarie University. Retrieved 2021-01-11.^ \"Shared Task: Grammatical Error Correction\". www.comp.nus.edu.sg. Retrieved 2021-01-11.^ \"Shared Task: Grammatical Error Correction\". www.comp.nus.edu.sg. Retrieved 2021-01-11.^ \"About Us  Grammarly\". www.grammarly.com. Retrieved 2021-01-11.^ Duan, Yucong; Cruz, Christophe (2011). \"Formalizing Semantic of Natural Language through Conceptualization from Existence\". International Journal of Innovation, Management and Technology. 2 (1): 37–42. Archived from the original on 2011-10-09.^ Mittal (2011). \"Versatile question answering systems: seeing in synthesis\" (PDF). International Journal of Intelligent Information and Database Systems. 5 (2): 119–142. doi:10.1504/IJIIDS.2011.038968.^ \"Previous shared tasks  CoNLL\". www.conll.org. Retrieved 2021-01-11.^ \"Cognition\". Lexico. Oxford University Press and Dictionary.com. Retrieved 6 May 2020.^ \"Ask the Cognitive Scientist\". American Federation of Teachers. 8 August 2014. Cognitive science is an interdisciplinary field of researchers from Linguistics, psychology, neuroscience, philosophy, computer science, and anthropology that seek to understand the mind.^ Robinson, Peter (2008). Handbook of Cognitive Linguistics and Second Language Acquisition. Routledge. pp.\\xa03–8. ISBN\\xa0978-0-805-85352-0.^ Lakoff, George (1999). Philosophy in the Flesh: The Embodied Mind and Its Challenge to Western Philosophy; Appendix: The Neural Theory of Language Paradigm. New York Basic Books. pp.\\xa0569–583. ISBN\\xa0978-0-465-05674-3.^ Strauss, Claudia (1999). A Cognitive Theory of Cultural Meaning. Cambridge University Press. pp.\\xa0156–164. ISBN\\xa0978-0-521-59541-4.^ \"Universal Conceptual Cognitive Annotation (UCCA)\". Universal Conceptual Cognitive Annotation (UCCA). Retrieved 2021-01-11.^ Rodríguez, F. C., & Mairal-Usón, R. (2016). Building an RRG computational grammar. Onomazein, (34), 86-117.^ \"Fluid Construction Grammar – A fully operational processing system for construction grammars\". Retrieved 2021-01-11.^ \"ACL Member Portal  The Association for Computational Linguistics Member Portal\". www.aclweb.org. Retrieved 2021-01-11.^ \"Chunks and Rules\". www.w3.org. Retrieved 2021-01-11.^ Socher, R., Karpathy, A., Le, Q. V., Manning, C. D., & Ng, A. Y. (2014). Grounded compositional semantics for finding and describing images with sentences. Transactions of the Association for Computational Linguistics, 2, 207-218.Further reading[edit]Bates, M (1995). \"Models of natural language understanding\". Proceedings of the National Academy of Sciences of the United States of America. 92 (22): 9977–9982. Bibcode:1995PNAS...92.9977B. doi:10.1073/pnas.92.22.9977. PMC\\xa040721. PMID\\xa07479812.Steven Bird, Ewan Klein, and Edward Loper (2009). Natural Language Processing with Python. O\\'Reilly Media. ISBN\\xa0978-0-596-51649-9.Daniel Jurafsky and James H. Martin (2008). Speech and Language Processing, 2nd edition. Pearson Prentice Hall. ISBN\\xa0978-0-13-187321-6.Mohamed Zakaria Kurdi (2016). Natural Language Processing and Computational Linguistics: speech, morphology, and syntax, Volume 1. ISTE-Wiley. ISBN\\xa0978-1848218482.Mohamed Zakaria Kurdi (2017). Natural Language Processing and Computational Linguistics: semantics, discourse, and applications, Volume 2. ISTE-Wiley. ISBN\\xa0978-1848219212.Christopher D. Manning, Prabhakar Raghavan, and Hinrich Schütze (2008). Introduction to Information Retrieval. Cambridge University Press. ISBN\\xa0978-0-521-86571-5. Official html and pdf versions available without charge.Christopher D. Manning and Hinrich Schütze (1999). Foundations of Statistical Natural Language Processing. The MIT Press. ISBN\\xa0978-0-262-13360-9.David M. W. Powers and Christopher C. R. Turk (1989). Machine Learning of Natural Language. Springer-Verlag. ISBN\\xa0978-0-387-19557-5.Wikimedia Commons has media related to Natural language processing.vteNatural language processingGeneral termsAI-completeBag-of-wordsn-gramBigramTrigramNatural language understandingSpeech corpusStopwordsText corpusText analysisCollocation extractionConcept miningCompound term processingCoreference resolutionLemmatisationNamed-entity recognitionOntology learningParsingPart-of-speech taggingSemantic similaritySentiment analysisStemmingTerminology extractionText chunkingText segmentationSentence segmentationWord segmentationTextual entailmentTruecasingWord-sense disambiguationAutomatic summarizationMulti-document summarizationSentence extractionText simplificationMachine translationComputer-assistedExample-basedRule-basedNeuralAutomatic identificationand data captureSpeech recognitionSpeech segmentationSpeech synthesisNatural language generationOptical character recognitionTopic modelLatent Dirichlet allocationLatent semantic analysisPachinko allocationComputer-assistedreviewingAutomated essay scoringConcordancerGrammar checkerPredictive textSpell checkerSyntax guessingNatural languageuser interfaceChatbotInteractive fictionQuestion answeringVirtual assistantVoice user interfaceAuthority control LCCN: sh88002425NDL: 00562347Language portalRetrieved from \"https://en.wikipedia.org/w/index.php?title=Natural_language_processing&oldid=1016426461\"Categories: Natural language processingComputational linguisticsSpeech recognitionComputational fields of studyArtificial intelligenceHidden categories: CS1 maint: locationArticles with short descriptionShort description matches WikidataCommons link from WikidataWikipedia articles with LCCN identifiersWikipedia articles with NDL identifiersNavigation menuPersonal toolsNot logged inTalkContributionsCreate accountLog inNamespacesArticleTalkVariantsViewsReadEditView historyMoreSearchNavigationMain pageContentsCurrent eventsRandom articleAbout WikipediaContact usDonateContributeHelpLearn to editCommunity portalRecent changesUpload fileToolsWhat links hereRelated changesUpload fileSpecial pagesPermanent linkPage informationCite this pageWikidata itemPrint/exportDownload as PDFPrintable versionIn other projectsWikimedia CommonsLanguagesAfrikaansالعربيةAzərbaycancaবাংলাBân-lâm-gúБеларускаяБеларуская (тарашкевіца)\\u200eБългарскиCatalàČeštinaDanskDeutschEestiΕλληνικάEspañolEuskaraفارسیFrançaisGalego한국어Հայերենहिन्दीHrvatskiBahasa IndonesiaÍslenskaItalianoעבריתಕನ್ನಡქართულიLietuviųМакедонскиमराठीМонголမြန်မာဘာသာ日本語ଓଡ଼ିଆPiemontèisPolskiPortuguêsRomânăРусскийSimple EnglishکوردیСрпски / srpskiSrpskohrvatski / српскохрватскиதமிழ்ไทยTürkçeУкраїнськаTiếng Việt粵語中文Edit links This page was last edited on 7 April 2021, at 03:07\\xa0(UTC).Text is available under the Creative Commons Attribution-ShareAlike License;additional terms may apply.  By using this site, you agree to the Terms of Use and Privacy Policy. Wikipedia® is a registered trademark of the Wikimedia Foundation, Inc., a non-profit organization.Privacy policyAbout WikipediaDisclaimersContact WikipediaMobile viewDevelopersStatisticsCookie statement'"
      ]
     },
     "execution_count": 53,
     "metadata": {},
     "output_type": "execute_result"
    }
   ],
   "source": [
    "clear_content = extract_text(content)\n",
    "clear_content"
   ]
  },
  {
   "cell_type": "code",
   "execution_count": 55,
   "metadata": {},
   "outputs": [],
   "source": [
    "msg='Natural language processing - WikipediaNatural language processingFrom Wikipedia, the free encyclopediaJump to navigationJump to searchField of computer science and linguistics An automated online assistant providing customer service on a web page, an example of an application where natural language processing is a major component.[1]Natural language processing (NLP) is a subfield of linguistics, computer science, and artificial intelligence concerned with the interactions between computers and human language, in particular how to program computers to process and analyze large amounts of natural language data.  The result is a computer capable of \"understanding\" the contents of documents, including the contextual nuances of the language within them. The technology can then accurately extract information and insights contained in the documents as well as categorize and organize the documents themselves.'\n"
   ]
  },
  {
   "cell_type": "code",
   "execution_count": 62,
   "metadata": {},
   "outputs": [
    {
     "name": "stdout",
     "output_type": "stream",
     "text": [
      "300\n",
      "['Natural language processing - WikipediaNatural language processingFrom Wikipedia, the free encyclopediaJump to navigationJump to searchField of computer science and linguistics An automated online assistant providing customer service on a web page, an example of an application where natural language processing is a major component.'\n",
      " '[1]Natural language processing (NLP) is a subfield of linguistics, computer science, and artificial intelligence concerned with the interactions between computers and human language, in particular how to program computers to process and analyze large amounts of natural language data.'\n",
      " 'The result is a computer capable of \"understanding\" the contents of documents, including the contextual nuances of the language within them.'\n",
      " 'The technology can then accurately extract information and insights contained in the documents as well as categorize and organize the documents themselves.'\n",
      " 'Challenges in natural language processing frequently involve speech recognition, natural language understanding, and natural-language generation.Contents1 History1.1 Symbolic NLP (1950s - early 1990s)1.2 Statistical NLP (1990s - 2010s)1.3 Neural NLP (present)2 Methods: Rules, statistics, neural networks2.1 Statistical methods2.2 Neural networks3 Common NLP tasks3.1 Text and speech processing3.2 Morphological analysis3.3 Syntactic analysis3.4 Lexical semantics (of individual words in context)3.5 Relational semantics (semantics of individual sentences)3.6 Discourse (semantics beyond individual sentences)3.7 Higher-level NLP applications4 General tendencies and (possible) future directions4.1 Cognition and NLP5 See also6 References7 Further readingHistory[edit]Further information: History of natural language processingNatural language processing has its roots in the 1950s.']\n"
     ]
    }
   ],
   "source": [
    "import numpy as np\n",
    "# sentence tokaenzier\n",
    "st = nltk.sent_tokenize\n",
    "sentences = st(text=clear_content)\n",
    "print(len(sentences))\n",
    "print(np.array(sentences[0:5]))"
   ]
  },
  {
   "cell_type": "code",
   "execution_count": 67,
   "metadata": {},
   "outputs": [
    {
     "data": {
      "text/plain": [
       "(7288, 7517)"
      ]
     },
     "execution_count": 67,
     "metadata": {},
     "output_type": "execute_result"
    }
   ],
   "source": [
    "# word tokenization\n",
    "wt = nltk.word_tokenize\n",
    "words = wt(clear_content)\n",
    "words\n",
    "\n",
    "treebank =  nltk.TreebankWordTokenizer()\n",
    "words1 = treebank.tokenize(clear_content)\n",
    "len(words1), len(words)\n"
   ]
  },
  {
   "cell_type": "code",
   "execution_count": 69,
   "metadata": {},
   "outputs": [
    {
     "data": {
      "text/plain": [
       "'this is a text example'"
      ]
     },
     "execution_count": 69,
     "metadata": {},
     "output_type": "execute_result"
    }
   ],
   "source": [
    "text = 'This IS a Text EXAMPLE'\n",
    "text.lower()\n"
   ]
  },
  {
   "cell_type": "code",
   "execution_count": 70,
   "metadata": {},
   "outputs": [
    {
     "data": {
      "text/plain": [
       "('jump', 'jump', 'jump')"
      ]
     },
     "execution_count": 70,
     "metadata": {},
     "output_type": "execute_result"
    }
   ],
   "source": [
    "# stemming\n",
    "from nltk.stem import PorterStemmer\n",
    "ps = PorterStemmer()\n",
    "ps.stem('Jumping'), ps.stem('Jumps'), ps.stem('Jumped')"
   ]
  },
  {
   "cell_type": "code",
   "execution_count": 71,
   "metadata": {},
   "outputs": [
    {
     "data": {
      "text/plain": [
       "'lie'"
      ]
     },
     "execution_count": 71,
     "metadata": {},
     "output_type": "execute_result"
    }
   ],
   "source": [
    "ps.stem('lying')"
   ]
  },
  {
   "cell_type": "code",
   "execution_count": 72,
   "metadata": {},
   "outputs": [],
   "source": [
    "from nltk.stem import WordNetLemmatizer\n",
    "wnl = WordNetLemmatizer()"
   ]
  },
  {
   "cell_type": "code",
   "execution_count": 80,
   "metadata": {},
   "outputs": [
    {
     "data": {
      "text/plain": [
       "'jump'"
      ]
     },
     "execution_count": 80,
     "metadata": {},
     "output_type": "execute_result"
    }
   ],
   "source": [
    "wnl.lemmatize('jumps','v')"
   ]
  },
  {
   "cell_type": "code",
   "execution_count": null,
   "metadata": {},
   "outputs": [],
   "source": []
  }
 ],
 "metadata": {
  "kernelspec": {
   "display_name": "Python 3",
   "language": "python",
   "name": "python3"
  },
  "language_info": {
   "codemirror_mode": {
    "name": "ipython",
    "version": 3
   },
   "file_extension": ".py",
   "mimetype": "text/x-python",
   "name": "python",
   "nbconvert_exporter": "python",
   "pygments_lexer": "ipython3",
   "version": "3.8.5"
  }
 },
 "nbformat": 4,
 "nbformat_minor": 4
}
