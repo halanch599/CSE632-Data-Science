{
 "cells": [
  {
   "cell_type": "markdown",
   "metadata": {},
   "source": [
    "## Logistic Regression"
   ]
  },
  {
   "cell_type": "code",
   "execution_count": 1,
   "metadata": {},
   "outputs": [],
   "source": [
    "from sklearn import datasets\n",
    "import matplotlib.pyplot as plt\n",
    "import seaborn as sns\n",
    "import numpy as np\n",
    "import pandas as pd"
   ]
  },
  {
   "cell_type": "code",
   "execution_count": 3,
   "metadata": {},
   "outputs": [
    {
     "name": "stdout",
     "output_type": "stream",
     "text": [
      ".. _iris_dataset:\n",
      "\n",
      "Iris plants dataset\n",
      "--------------------\n",
      "\n",
      "**Data Set Characteristics:**\n",
      "\n",
      "    :Number of Instances: 150 (50 in each of three classes)\n",
      "    :Number of Attributes: 4 numeric, predictive attributes and the class\n",
      "    :Attribute Information:\n",
      "        - sepal length in cm\n",
      "        - sepal width in cm\n",
      "        - petal length in cm\n",
      "        - petal width in cm\n",
      "        - class:\n",
      "                - Iris-Setosa\n",
      "                - Iris-Versicolour\n",
      "                - Iris-Virginica\n",
      "                \n",
      "    :Summary Statistics:\n",
      "\n",
      "    ============== ==== ==== ======= ===== ====================\n",
      "                    Min  Max   Mean    SD   Class Correlation\n",
      "    ============== ==== ==== ======= ===== ====================\n",
      "    sepal length:   4.3  7.9   5.84   0.83    0.7826\n",
      "    sepal width:    2.0  4.4   3.05   0.43   -0.4194\n",
      "    petal length:   1.0  6.9   3.76   1.76    0.9490  (high!)\n",
      "    petal width:    0.1  2.5   1.20   0.76    0.9565  (high!)\n",
      "    ============== ==== ==== ======= ===== ====================\n",
      "\n",
      "    :Missing Attribute Values: None\n",
      "    :Class Distribution: 33.3% for each of 3 classes.\n",
      "    :Creator: R.A. Fisher\n",
      "    :Donor: Michael Marshall (MARSHALL%PLU@io.arc.nasa.gov)\n",
      "    :Date: July, 1988\n",
      "\n",
      "The famous Iris database, first used by Sir R.A. Fisher. The dataset is taken\n",
      "from Fisher's paper. Note that it's the same as in R, but not as in the UCI\n",
      "Machine Learning Repository, which has two wrong data points.\n",
      "\n",
      "This is perhaps the best known database to be found in the\n",
      "pattern recognition literature.  Fisher's paper is a classic in the field and\n",
      "is referenced frequently to this day.  (See Duda & Hart, for example.)  The\n",
      "data set contains 3 classes of 50 instances each, where each class refers to a\n",
      "type of iris plant.  One class is linearly separable from the other 2; the\n",
      "latter are NOT linearly separable from each other.\n",
      "\n",
      ".. topic:: References\n",
      "\n",
      "   - Fisher, R.A. \"The use of multiple measurements in taxonomic problems\"\n",
      "     Annual Eugenics, 7, Part II, 179-188 (1936); also in \"Contributions to\n",
      "     Mathematical Statistics\" (John Wiley, NY, 1950).\n",
      "   - Duda, R.O., & Hart, P.E. (1973) Pattern Classification and Scene Analysis.\n",
      "     (Q327.D83) John Wiley & Sons.  ISBN 0-471-22361-1.  See page 218.\n",
      "   - Dasarathy, B.V. (1980) \"Nosing Around the Neighborhood: A New System\n",
      "     Structure and Classification Rule for Recognition in Partially Exposed\n",
      "     Environments\".  IEEE Transactions on Pattern Analysis and Machine\n",
      "     Intelligence, Vol. PAMI-2, No. 1, 67-71.\n",
      "   - Gates, G.W. (1972) \"The Reduced Nearest Neighbor Rule\".  IEEE Transactions\n",
      "     on Information Theory, May 1972, 431-433.\n",
      "   - See also: 1988 MLC Proceedings, 54-64.  Cheeseman et al\"s AUTOCLASS II\n",
      "     conceptual clustering system finds 3 classes in the data.\n",
      "   - Many, many more ...\n"
     ]
    }
   ],
   "source": [
    "iris = datasets.load_iris()\n",
    "print(iris.DESCR)"
   ]
  },
  {
   "cell_type": "code",
   "execution_count": 4,
   "metadata": {},
   "outputs": [
    {
     "name": "stdout",
     "output_type": "stream",
     "text": [
      "(150, 4)\n",
      "(150,)\n"
     ]
    }
   ],
   "source": [
    "x = iris.data\n",
    "y = iris.target\n",
    "print(x.shape)\n",
    "print(y.shape)"
   ]
  },
  {
   "cell_type": "code",
   "execution_count": 23,
   "metadata": {},
   "outputs": [
    {
     "name": "stdout",
     "output_type": "stream",
     "text": [
      "(112, 4)\n",
      "(38, 4)\n",
      "(112,)\n",
      "(38,)\n"
     ]
    }
   ],
   "source": [
    "from sklearn.model_selection import train_test_split\n",
    "x_train,x_test,y_train, y_test = train_test_split(x,y,test_size=0.25, random_state=40)\n",
    "print(x_train.shape)\n",
    "print(x_test.shape)\n",
    "print(y_train.shape)\n",
    "print(y_test.shape)"
   ]
  },
  {
   "cell_type": "markdown",
   "metadata": {},
   "source": [
    "### Logistic Regression"
   ]
  },
  {
   "cell_type": "code",
   "execution_count": 25,
   "metadata": {},
   "outputs": [
    {
     "data": {
      "text/plain": [
       "LogisticRegression(max_iter=500)"
      ]
     },
     "execution_count": 25,
     "metadata": {},
     "output_type": "execute_result"
    }
   ],
   "source": [
    "from sklearn.linear_model import LogisticRegression\n",
    "model = LogisticRegression(solver='lbfgs', max_iter=500)\n",
    "model.fit(x_train,y_train)\n",
    "model"
   ]
  },
  {
   "cell_type": "code",
   "execution_count": 26,
   "metadata": {},
   "outputs": [
    {
     "name": "stdout",
     "output_type": "stream",
     "text": [
      "[0 1 2 2 1 2 1 1 1 0 1 0 0 2 1 2 2 2 1 1 2 2 1 0 1 0 0 2 0 1 1 0 0 0 0 2 0\n",
      " 0]\n",
      "[[9.81553731e-01 1.84461960e-02 7.30975402e-08]\n",
      " [1.21954661e-02 7.35122330e-01 2.52682204e-01]\n",
      " [1.15838439e-04 7.24090096e-02 9.27475152e-01]\n",
      " [3.74225201e-07 7.18651683e-03 9.92813109e-01]\n",
      " [2.71611311e-02 9.12440934e-01 6.03979349e-02]\n",
      " [2.95491171e-05 2.53181743e-02 9.74652277e-01]\n",
      " [2.81934580e-03 7.72966181e-01 2.24214473e-01]\n",
      " [2.01505100e-02 8.91666746e-01 8.81827435e-02]\n",
      " [1.40756026e-02 7.02923143e-01 2.83001254e-01]\n",
      " [9.70322165e-01 2.96777644e-02 7.08772312e-08]\n",
      " [1.26899323e-02 8.59114426e-01 1.28195641e-01]\n",
      " [9.69068336e-01 3.09314871e-02 1.76837713e-07]\n",
      " [9.81750634e-01 1.82493181e-02 4.83685416e-08]\n",
      " [1.72746417e-03 4.60182344e-01 5.38090192e-01]\n",
      " [7.67798835e-02 9.17572648e-01 5.64746817e-03]\n",
      " [1.10912748e-05 1.95841629e-02 9.80404746e-01]\n",
      " [9.90186627e-04 4.02411442e-01 5.96598371e-01]\n",
      " [3.29248608e-05 5.39953599e-02 9.45971715e-01]\n",
      " [1.82848059e-03 7.95575311e-01 2.02596209e-01]\n",
      " [5.32903154e-02 8.79405154e-01 6.73045303e-02]\n",
      " [1.96943640e-05 3.64386157e-02 9.63541690e-01]\n",
      " [2.33368612e-07 8.39941045e-03 9.91600356e-01]\n",
      " [2.14385018e-02 9.13321752e-01 6.52397464e-02]\n",
      " [9.75436404e-01 2.45635166e-02 7.94617168e-08]\n",
      " [9.01023580e-02 8.94467437e-01 1.54302053e-02]\n",
      " [9.45057088e-01 5.49426847e-02 2.27418357e-07]\n",
      " [9.89076331e-01 1.09236483e-02 2.06506697e-08]\n",
      " [1.18335029e-04 1.42870956e-01 8.57010709e-01]\n",
      " [9.61657665e-01 3.83422024e-02 1.32204625e-07]\n",
      " [4.91409503e-02 9.38124662e-01 1.27343878e-02]\n",
      " [1.32794783e-02 9.64782091e-01 2.19384310e-02]\n",
      " [9.41507890e-01 5.84913142e-02 7.95555755e-07]\n",
      " [9.61559244e-01 3.84404389e-02 3.17165757e-07]\n",
      " [9.71804317e-01 2.81956101e-02 7.33164465e-08]\n",
      " [9.80726961e-01 1.92729833e-02 5.58310171e-08]\n",
      " [2.58007588e-05 4.68629502e-02 9.53111249e-01]\n",
      " [9.82591866e-01 1.74080475e-02 8.68593794e-08]\n",
      " [9.85397297e-01 1.46026491e-02 5.36236606e-08]]\n"
     ]
    }
   ],
   "source": [
    "# predict label\n",
    "y_pred = model.predict(x_test)\n",
    "y_probabs = model.predict_proba(x_test)\n",
    "print(y_pred)\n",
    "print(y_probabs)"
   ]
  },
  {
   "cell_type": "code",
   "execution_count": 27,
   "metadata": {},
   "outputs": [
    {
     "name": "stdout",
     "output_type": "stream",
     "text": [
      "[[14  0  0]\n",
      " [ 0 13  0]\n",
      " [ 0  0 11]]\n"
     ]
    }
   ],
   "source": [
    "from sklearn.metrics import confusion_matrix\n",
    "cm = confusion_matrix(y_test,y_pred)\n",
    "print(cm)"
   ]
  },
  {
   "cell_type": "code",
   "execution_count": 32,
   "metadata": {},
   "outputs": [
    {
     "data": {
      "image/png": "[encoded data removed]",
      "text/plain": [
       "<Figure size 432x432 with 1 Axes>"
      ]
     },
     "metadata": {
      "needs_background": "light"
     },
     "output_type": "display_data"
    }
   ],
   "source": [
    "from sklearn.metrics import confusion_matrix\n",
    "cm = confusion_matrix(y_test,y_pred)\n",
    "print(cm)\n",
    "\n",
    "fig = plt.figure(figsize=(6,6))\n",
    "sns.heatmap(cm,cmap='Blues',annot=True, annot_kws={'size':20},cbar=False)\n",
    "plt.xlabel('Actual Labels')\n",
    "plt.ylabel('Predicted Labels')\n",
    "plt.show()"
   ]
  },
  {
   "cell_type": "code",
   "execution_count": 40,
   "metadata": {},
   "outputs": [
    {
     "name": "stdout",
     "output_type": "stream",
     "text": [
      "Accuracy is 100.0%\n",
      "Precision is 100.0%\n",
      "Recall is 100.0%\n",
      "FScore is 100.0%\n",
      "Support is [14 13 11]\n"
     ]
    }
   ],
   "source": [
    "from sklearn.metrics import accuracy_score\n",
    "from sklearn.metrics import precision_recall_fscore_support\n",
    "\n",
    "acc = accuracy_score(y_test,y_pred)\n",
    "precision, recall, fscore, supprt = precision_recall_fscore_support(y_test,y_pred)\n",
    "print('Accuracy is {0}%'.format(acc*100))\n",
    "print('Precision is {0}%'.format(precision.mean()*100))\n",
    "print('Recall is {0}%'.format(recall.mean()*100))\n",
    "print('FScore is {0}%'.format(fscore.mean()*100))\n",
    "print('Support is {0}'.format(supprt))"
   ]
  },
  {
   "cell_type": "code",
   "execution_count": 38,
   "metadata": {},
   "outputs": [
    {
     "data": {
      "text/plain": [
       "100.0"
      ]
     },
     "execution_count": 38,
     "metadata": {},
     "output_type": "execute_result"
    }
   ],
   "source": [
    "*100"
   ]
  },
  {
   "cell_type": "code",
   "execution_count": null,
   "metadata": {},
   "outputs": [],
   "source": []
  }
 ],
 "metadata": {
  "kernelspec": {
   "display_name": "Python 3",
   "language": "python",
   "name": "python3"
  },
  "language_info": {
   "codemirror_mode": {
    "name": "ipython",
    "version": 3
   },
   "file_extension": ".py",
   "mimetype": "text/x-python",
   "name": "python",
   "nbconvert_exporter": "python",
   "pygments_lexer": "ipython3",
   "version": "3.8.5"
  }
 },
 "nbformat": 4,
 "nbformat_minor": 4
}
